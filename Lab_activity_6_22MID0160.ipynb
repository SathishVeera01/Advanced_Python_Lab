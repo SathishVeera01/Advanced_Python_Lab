{
  "nbformat": 4,
  "nbformat_minor": 0,
  "metadata": {
    "colab": {
      "provenance": [],
      "include_colab_link": true
    },
    "kernelspec": {
      "name": "python3",
      "display_name": "Python 3"
    },
    "language_info": {
      "name": "python"
    }
  },
  "cells": [
    {
      "cell_type": "markdown",
      "metadata": {
        "id": "view-in-github",
        "colab_type": "text"
      },
      "source": [
        "<a href=\"https://colab.research.google.com/github/SathishVeera01/Advanced_Python_Lab/blob/main/Lab_activity_6_22MID0160.ipynb\" target=\"_parent\"><img src=\"https://colab.research.google.com/assets/colab-badge.svg\" alt=\"Open In Colab\"/></a>"
      ]
    },
    {
      "cell_type": "code",
      "execution_count": 14,
      "metadata": {
        "id": "CtOLX8__g6gV"
      },
      "outputs": [],
      "source": [
        "#Unpacking Sequence\n",
        "ODDS = [1,3,5,7]  # Original list\n",
        "a,b,c,d = ODDS # Unpacking the List"
      ]
    },
    {
      "cell_type": "code",
      "source": [
        "print(a)    # printing the unpacked list elements\n",
        "print(b)\n",
        "print(c)\n",
        "print(d)"
      ],
      "metadata": {
        "colab": {
          "base_uri": "https://localhost:8080/"
        },
        "id": "ilIvGnkehAIX",
        "outputId": "35ac8329-0bc5-49f6-b1d0-7efbfe13a6d3"
      },
      "execution_count": 15,
      "outputs": [
        {
          "output_type": "stream",
          "name": "stdout",
          "text": [
            "1\n",
            "3\n",
            "5\n",
            "7\n"
          ]
        }
      ]
    },
    {
      "cell_type": "code",
      "source": [
        "a,b,*c = ODDS #Unpacking the list (Remaining elements will get stored in the variable c)"
      ],
      "metadata": {
        "id": "WT031E9whCRk"
      },
      "execution_count": 16,
      "outputs": []
    },
    {
      "cell_type": "code",
      "source": [
        "print(a)    # printing the unpacked list elements\n",
        "print(b)\n",
        "print(c)"
      ],
      "metadata": {
        "colab": {
          "base_uri": "https://localhost:8080/"
        },
        "id": "GXyXlA2chFun",
        "outputId": "8148f1db-54b8-4d12-bc34-3ddc184a7131"
      },
      "execution_count": 17,
      "outputs": [
        {
          "output_type": "stream",
          "name": "stdout",
          "text": [
            "1\n",
            "3\n",
            "[5, 7]\n"
          ]
        }
      ]
    },
    {
      "cell_type": "code",
      "source": [
        "a,*b,c = ODDS # Unpacking the List"
      ],
      "metadata": {
        "id": "fzX7btkkhIEP"
      },
      "execution_count": 18,
      "outputs": []
    },
    {
      "cell_type": "code",
      "source": [
        "print(a)    # printing the unpacked list elements\n",
        "print(b)\n",
        "print(c)"
      ],
      "metadata": {
        "colab": {
          "base_uri": "https://localhost:8080/"
        },
        "id": "HemJG2KJhKup",
        "outputId": "0e252db3-c48d-4925-fb28-cb6ba8b0114c"
      },
      "execution_count": 19,
      "outputs": [
        {
          "output_type": "stream",
          "name": "stdout",
          "text": [
            "1\n",
            "[3, 5]\n",
            "7\n"
          ]
        }
      ]
    },
    {
      "cell_type": "code",
      "source": [
        "def a(x,y,z):       # Unpacking the list\n",
        "    return (x+y+z)\n",
        "print(a(*ODDS))     # ERROR: It requires exactly 4 elements to be unpacked"
      ],
      "metadata": {
        "colab": {
          "base_uri": "https://localhost:8080/",
          "height": 176
        },
        "id": "XbRK3jqthM6S",
        "outputId": "d8410fcd-5f23-47ab-df66-6570ca0562a5"
      },
      "execution_count": 20,
      "outputs": [
        {
          "output_type": "error",
          "ename": "TypeError",
          "evalue": "a() takes 3 positional arguments but 4 were given",
          "traceback": [
            "\u001b[0;31m---------------------------------------------------------------------------\u001b[0m",
            "\u001b[0;31mTypeError\u001b[0m                                 Traceback (most recent call last)",
            "\u001b[0;32m/tmp/ipython-input-3353483840.py\u001b[0m in \u001b[0;36m<cell line: 0>\u001b[0;34m()\u001b[0m\n\u001b[1;32m      1\u001b[0m \u001b[0;32mdef\u001b[0m \u001b[0ma\u001b[0m\u001b[0;34m(\u001b[0m\u001b[0mx\u001b[0m\u001b[0;34m,\u001b[0m\u001b[0my\u001b[0m\u001b[0;34m,\u001b[0m\u001b[0mz\u001b[0m\u001b[0;34m)\u001b[0m\u001b[0;34m:\u001b[0m       \u001b[0;31m# Unpacking the list\u001b[0m\u001b[0;34m\u001b[0m\u001b[0;34m\u001b[0m\u001b[0m\n\u001b[1;32m      2\u001b[0m     \u001b[0;32mreturn\u001b[0m \u001b[0;34m(\u001b[0m\u001b[0mx\u001b[0m\u001b[0;34m+\u001b[0m\u001b[0my\u001b[0m\u001b[0;34m+\u001b[0m\u001b[0mz\u001b[0m\u001b[0;34m)\u001b[0m\u001b[0;34m\u001b[0m\u001b[0;34m\u001b[0m\u001b[0m\n\u001b[0;32m----> 3\u001b[0;31m \u001b[0mprint\u001b[0m\u001b[0;34m(\u001b[0m\u001b[0ma\u001b[0m\u001b[0;34m(\u001b[0m\u001b[0;34m*\u001b[0m\u001b[0mODDS\u001b[0m\u001b[0;34m)\u001b[0m\u001b[0;34m)\u001b[0m     \u001b[0;31m# ERROR: It requires exactly 4 elements to be unpacked\u001b[0m\u001b[0;34m\u001b[0m\u001b[0;34m\u001b[0m\u001b[0m\n\u001b[0m",
            "\u001b[0;31mTypeError\u001b[0m: a() takes 3 positional arguments but 4 were given"
          ]
        }
      ]
    },
    {
      "cell_type": "code",
      "source": [
        "def a(x,y,z,p):       # Unpacking the list\n",
        "    return (x+y+z+p)\n",
        "print(a(*ODDS))"
      ],
      "metadata": {
        "id": "42n4oe-XhQqk",
        "colab": {
          "base_uri": "https://localhost:8080/"
        },
        "outputId": "90a2ec46-af9d-433f-9176-0f813ed53dce"
      },
      "execution_count": 21,
      "outputs": [
        {
          "output_type": "stream",
          "name": "stdout",
          "text": [
            "16\n"
          ]
        }
      ]
    },
    {
      "cell_type": "code",
      "source": [
        "def say_hi(*names):    # Unpacking the collection of string\n",
        "    for n in names:\n",
        "        print(f\"Hello, {n}\")\n",
        "say_hi(\"Sathish\",\"Veera\",\"Hari\",\"Kaushik\")"
      ],
      "metadata": {
        "id": "6lArSE-yhS47",
        "colab": {
          "base_uri": "https://localhost:8080/"
        },
        "outputId": "a3c3d1f0-1a58-4a33-b538-37bc9e6292ea"
      },
      "execution_count": 24,
      "outputs": [
        {
          "output_type": "stream",
          "name": "stdout",
          "text": [
            "Hello, Sathish\n",
            "Hello, Veera\n",
            "Hello, Hari\n",
            "Hello, Kaushik\n"
          ]
        }
      ]
    },
    {
      "cell_type": "code",
      "source": [
        "# Unpacking the dictionary\n",
        "def show_info(**info):\n",
        "    for k,v in info.items():\n",
        "        print(f\"{k} : {v}\")\n",
        "\n",
        "data = {\"Code\":\"Python\",\n",
        "        \"School\":\"SCOPE\",\n",
        "        \"Course\":\"CSI4007\"\n",
        "       }\n",
        "show_info(**data)"
      ],
      "metadata": {
        "id": "XWtccugmhasA",
        "colab": {
          "base_uri": "https://localhost:8080/"
        },
        "outputId": "7c60967c-8118-4905-c0be-461853f318c6"
      },
      "execution_count": 25,
      "outputs": [
        {
          "output_type": "stream",
          "name": "stdout",
          "text": [
            "Code : Python\n",
            "School : SCOPE\n",
            "Course : CSI4007\n"
          ]
        }
      ]
    },
    {
      "cell_type": "code",
      "source": [
        "#Create a Empty Dictionary and insert keys and values\n",
        "dict1 = dict()   # Empty dict"
      ],
      "metadata": {
        "id": "G8dJnbqShdJf"
      },
      "execution_count": 26,
      "outputs": []
    },
    {
      "cell_type": "code",
      "source": [
        "dict1[\"Name\"] = \"Sathish\"  # Inserting keys and values to dict\n",
        "dict1[\"School\"] = \"SCOPE\"\n"
      ],
      "metadata": {
        "id": "SQ_Yw5zehiEY"
      },
      "execution_count": 27,
      "outputs": []
    },
    {
      "cell_type": "code",
      "source": [
        "print(dict1) # Display dict"
      ],
      "metadata": {
        "id": "xG0uyJ9ehlQY",
        "colab": {
          "base_uri": "https://localhost:8080/"
        },
        "outputId": "3b2bc8a1-f24e-4f1d-b84f-ada26f13ddaa"
      },
      "execution_count": 28,
      "outputs": [
        {
          "output_type": "stream",
          "name": "stdout",
          "text": [
            "{'Name': 'Sathish', 'School': 'SCOPE'}\n"
          ]
        }
      ]
    },
    {
      "cell_type": "code",
      "source": [
        "dict2 = {}     # Empty dict"
      ],
      "metadata": {
        "id": "aWIKfTZdhocr"
      },
      "execution_count": 29,
      "outputs": []
    },
    {
      "cell_type": "code",
      "source": [
        "dict2[\"Name\"] = \"Sathish\"  # Inserting keys and values to dict\n",
        "dict2[\"School\"] = \"SCOPE\""
      ],
      "metadata": {
        "id": "z-rVSi6mhqiH"
      },
      "execution_count": 30,
      "outputs": []
    },
    {
      "cell_type": "code",
      "source": [
        "print(dict2) # Display dict"
      ],
      "metadata": {
        "id": "_09I3i9ThsfY",
        "colab": {
          "base_uri": "https://localhost:8080/"
        },
        "outputId": "e52ce81c-13c0-4d57-a214-7c52de1fe2b7"
      },
      "execution_count": 31,
      "outputs": [
        {
          "output_type": "stream",
          "name": "stdout",
          "text": [
            "{'Name': 'Sathish', 'School': 'SCOPE'}\n"
          ]
        }
      ]
    },
    {
      "cell_type": "code",
      "source": [],
      "metadata": {
        "id": "feGEZdUahwgH"
      },
      "execution_count": null,
      "outputs": []
    }
  ]
}