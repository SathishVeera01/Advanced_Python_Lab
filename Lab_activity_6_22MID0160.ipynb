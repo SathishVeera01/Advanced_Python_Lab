{
  "nbformat": 4,
  "nbformat_minor": 0,
  "metadata": {
    "colab": {
      "provenance": [],
      "include_colab_link": true
    },
    "kernelspec": {
      "name": "python3",
      "display_name": "Python 3"
    },
    "language_info": {
      "name": "python"
    }
  },
  "cells": [
    {
      "cell_type": "markdown",
      "metadata": {
        "id": "view-in-github",
        "colab_type": "text"
      },
      "source": [
        "<a href=\"https://colab.research.google.com/github/SathishVeera01/Advanced_Python_Lab/blob/main/Lab_activity_6_22MID0160.ipynb\" target=\"_parent\"><img src=\"https://colab.research.google.com/assets/colab-badge.svg\" alt=\"Open In Colab\"/></a>"
      ]
    },
    {
      "cell_type": "code",
      "execution_count": null,
      "metadata": {
        "id": "CtOLX8__g6gV"
      },
      "outputs": [],
      "source": [
        "#Unpacking Sequence\n",
        "ODDS = [1,3,5,7]  # Original list\n",
        "a,b,c,d = ODDS # Unpacking the List"
      ]
    },
    {
      "cell_type": "code",
      "source": [
        "print(a)    # printing the unpacked list elements\n",
        "print(b)\n",
        "print(c)\n",
        "print(d)"
      ],
      "metadata": {
        "colab": {
          "base_uri": "https://localhost:8080/"
        },
        "id": "ilIvGnkehAIX",
        "outputId": "44778c3d-3df2-4d74-9650-54b8e8eec535"
      },
      "execution_count": null,
      "outputs": [
        {
          "output_type": "stream",
          "name": "stdout",
          "text": [
            "1\n",
            "3\n",
            "5\n",
            "7\n"
          ]
        }
      ]
    },
    {
      "cell_type": "code",
      "source": [
        "a,b,*c = ODDS #Unpacking the list (Remaining elements will get stored in the variable c)"
      ],
      "metadata": {
        "id": "WT031E9whCRk"
      },
      "execution_count": null,
      "outputs": []
    },
    {
      "cell_type": "code",
      "source": [
        "print(a)    # printing the unpacked list elements\n",
        "print(b)\n",
        "print(c)"
      ],
      "metadata": {
        "colab": {
          "base_uri": "https://localhost:8080/"
        },
        "id": "GXyXlA2chFun",
        "outputId": "1aba1ba8-efcf-4a1b-aa1b-76ff431523b4"
      },
      "execution_count": null,
      "outputs": [
        {
          "output_type": "stream",
          "name": "stdout",
          "text": [
            "1\n",
            "3\n",
            "[5, 7]\n"
          ]
        }
      ]
    },
    {
      "cell_type": "code",
      "source": [
        "a,*b,c = ODDS # Unpacking the List"
      ],
      "metadata": {
        "id": "fzX7btkkhIEP"
      },
      "execution_count": null,
      "outputs": []
    },
    {
      "cell_type": "code",
      "source": [
        "print(a)    # printing the unpacked list elements\n",
        "print(b)\n",
        "print(c)"
      ],
      "metadata": {
        "colab": {
          "base_uri": "https://localhost:8080/"
        },
        "id": "HemJG2KJhKup",
        "outputId": "31074b1b-fa44-40d0-9e73-a05bdc2ab183"
      },
      "execution_count": null,
      "outputs": [
        {
          "output_type": "stream",
          "name": "stdout",
          "text": [
            "1\n",
            "[3, 5]\n",
            "7\n"
          ]
        }
      ]
    },
    {
      "cell_type": "code",
      "source": [
        "def a(x,y,z):       # Unpacking the list\n",
        "    return (x+y+z)\n",
        "print(a(*ODDS))     # ERROR: It requires exactly 4 elements to be unpacked"
      ],
      "metadata": {
        "colab": {
          "base_uri": "https://localhost:8080/",
          "height": 176
        },
        "id": "XbRK3jqthM6S",
        "outputId": "d365d31c-a98f-4e2d-cc8e-cfd49b431854"
      },
      "execution_count": null,
      "outputs": [
        {
          "output_type": "error",
          "ename": "TypeError",
          "evalue": "a() takes 3 positional arguments but 4 were given",
          "traceback": [
            "\u001b[0;31m---------------------------------------------------------------------------\u001b[0m",
            "\u001b[0;31mTypeError\u001b[0m                                 Traceback (most recent call last)",
            "\u001b[0;32m/tmp/ipython-input-3353483840.py\u001b[0m in \u001b[0;36m<cell line: 0>\u001b[0;34m()\u001b[0m\n\u001b[1;32m      1\u001b[0m \u001b[0;32mdef\u001b[0m \u001b[0ma\u001b[0m\u001b[0;34m(\u001b[0m\u001b[0mx\u001b[0m\u001b[0;34m,\u001b[0m\u001b[0my\u001b[0m\u001b[0;34m,\u001b[0m\u001b[0mz\u001b[0m\u001b[0;34m)\u001b[0m\u001b[0;34m:\u001b[0m       \u001b[0;31m# Unpacking the list\u001b[0m\u001b[0;34m\u001b[0m\u001b[0;34m\u001b[0m\u001b[0m\n\u001b[1;32m      2\u001b[0m     \u001b[0;32mreturn\u001b[0m \u001b[0;34m(\u001b[0m\u001b[0mx\u001b[0m\u001b[0;34m+\u001b[0m\u001b[0my\u001b[0m\u001b[0;34m+\u001b[0m\u001b[0mz\u001b[0m\u001b[0;34m)\u001b[0m\u001b[0;34m\u001b[0m\u001b[0;34m\u001b[0m\u001b[0m\n\u001b[0;32m----> 3\u001b[0;31m \u001b[0mprint\u001b[0m\u001b[0;34m(\u001b[0m\u001b[0ma\u001b[0m\u001b[0;34m(\u001b[0m\u001b[0;34m*\u001b[0m\u001b[0mODDS\u001b[0m\u001b[0;34m)\u001b[0m\u001b[0;34m)\u001b[0m     \u001b[0;31m# ERROR: It requires exactly 4 elements to be unpacked\u001b[0m\u001b[0;34m\u001b[0m\u001b[0;34m\u001b[0m\u001b[0m\n\u001b[0m",
            "\u001b[0;31mTypeError\u001b[0m: a() takes 3 positional arguments but 4 were given"
          ]
        }
      ]
    },
    {
      "cell_type": "code",
      "source": [
        "def a(x,y,z,p):       # Unpacking the list\n",
        "    return (x+y+z+p)\n",
        "print(a(*ODDS))"
      ],
      "metadata": {
        "id": "42n4oe-XhQqk"
      },
      "execution_count": null,
      "outputs": []
    },
    {
      "cell_type": "code",
      "source": [
        "def say_hi(*names):    # Unpacking the collection of string\n",
        "    for n in names:\n",
        "        print(f\"Hello, {n}\")\n",
        "say_hi(\"Gokula\",\"Vithun\",\"Hari\",\"Dhevi\")"
      ],
      "metadata": {
        "id": "6lArSE-yhS47"
      },
      "execution_count": null,
      "outputs": []
    },
    {
      "cell_type": "code",
      "source": [
        "# Unpacking the dictionary\n",
        "def show_info(**info):\n",
        "    for k,v in info.items():\n",
        "        print(f\"{k} : {v}\")\n",
        "\n",
        "data = {\"Code\":\"Python\",\n",
        "        \"School\":\"SCOPE\",\n",
        "        \"Course\":\"CSI4007\"\n",
        "       }\n",
        "show_info(**data)"
      ],
      "metadata": {
        "id": "XWtccugmhasA"
      },
      "execution_count": null,
      "outputs": []
    },
    {
      "cell_type": "code",
      "source": [
        "#Create a Empty Dictionary and insert keys and values\n",
        "dict1 = dict()   # Empty dict"
      ],
      "metadata": {
        "id": "G8dJnbqShdJf"
      },
      "execution_count": null,
      "outputs": []
    },
    {
      "cell_type": "code",
      "source": [
        "dict1[\"Name\"] = \"Gokula\"  # Inserting keys and values to dict\n",
        "dict1[\"School\"] = \"SCOPE\"\n"
      ],
      "metadata": {
        "id": "SQ_Yw5zehiEY"
      },
      "execution_count": null,
      "outputs": []
    },
    {
      "cell_type": "code",
      "source": [
        "print(dict1) # Display dict"
      ],
      "metadata": {
        "id": "xG0uyJ9ehlQY"
      },
      "execution_count": null,
      "outputs": []
    },
    {
      "cell_type": "code",
      "source": [
        "dict2 = {}     # Empty dict"
      ],
      "metadata": {
        "id": "aWIKfTZdhocr"
      },
      "execution_count": null,
      "outputs": []
    },
    {
      "cell_type": "code",
      "source": [
        "dict2[\"Name\"] = \"Sathish\"  # Inserting keys and values to dict\n",
        "dict2[\"School\"] = \"SCOPE\""
      ],
      "metadata": {
        "id": "z-rVSi6mhqiH"
      },
      "execution_count": null,
      "outputs": []
    },
    {
      "cell_type": "code",
      "source": [
        "print(dict2) # Display dict"
      ],
      "metadata": {
        "id": "_09I3i9ThsfY"
      },
      "execution_count": null,
      "outputs": []
    },
    {
      "cell_type": "code",
      "source": [],
      "metadata": {
        "id": "feGEZdUahwgH"
      },
      "execution_count": null,
      "outputs": []
    }
  ]
}