{
 "cells": [
  {
   "cell_type": "code",
   "execution_count": 1,
   "id": "f57f7b33",
   "metadata": {},
   "outputs": [],
   "source": [
    "#LAB ACTIVITY 5\n",
    "#Slicing a List\n",
    "L = [0,1,2,3,4,5,6,7] #original list"
   ]
  },
  {
   "cell_type": "code",
   "execution_count": 2,
   "id": "f86a22d9",
   "metadata": {},
   "outputs": [
    {
     "data": {
      "text/plain": [
       "[2, 3, 4, 5, 6, 7]"
      ]
     },
     "execution_count": 2,
     "metadata": {},
     "output_type": "execute_result"
    }
   ],
   "source": [
    "#off by one behaviour\n",
    "# Printing from third to last elements of a list\n",
    "L[2:]"
   ]
  },
  {
   "cell_type": "code",
   "execution_count": 3,
   "id": "dff05df3",
   "metadata": {},
   "outputs": [
    {
     "data": {
      "text/plain": [
       "[0, 1]"
      ]
     },
     "execution_count": 3,
     "metadata": {},
     "output_type": "execute_result"
    }
   ],
   "source": [
    "# Printing first two elements of a list\n",
    "L[:2]"
   ]
  },
  {
   "cell_type": "code",
   "execution_count": 4,
   "id": "86fefa90",
   "metadata": {},
   "outputs": [
    {
     "data": {
      "text/plain": [
       "[6, 7]"
      ]
     },
     "execution_count": 4,
     "metadata": {},
     "output_type": "execute_result"
    }
   ],
   "source": [
    "# Printing the last two elements\n",
    "L[-2:]"
   ]
  },
  {
   "cell_type": "code",
   "execution_count": 5,
   "id": "26d7956d",
   "metadata": {},
   "outputs": [
    {
     "data": {
      "text/plain": [
       "[7, 6]"
      ]
     },
     "execution_count": 5,
     "metadata": {},
     "output_type": "execute_result"
    }
   ],
   "source": [
    "# Printing from last elements (last two elements)\n",
    "L[-1:-3:-1]"
   ]
  },
  {
   "cell_type": "code",
   "execution_count": 6,
   "id": "6da52933",
   "metadata": {},
   "outputs": [
    {
     "data": {
      "text/plain": [
       "[7, 6, 5, 4, 3, 2, 1, 0]"
      ]
     },
     "execution_count": 6,
     "metadata": {},
     "output_type": "execute_result"
    }
   ],
   "source": [
    "# Printing from last elements\n",
    "L[-1::-1]"
   ]
  },
  {
   "cell_type": "code",
   "execution_count": 7,
   "id": "230b9d69",
   "metadata": {},
   "outputs": [],
   "source": [
    "#Copying the List\n",
    "my_fav = ['cake','pizza','stew'] # Original List\n",
    "frd_fav1 = my_fav[:]\n",
    "frd_fav2 = my_fav"
   ]
  },
  {
   "cell_type": "code",
   "execution_count": 8,
   "id": "da25635e",
   "metadata": {},
   "outputs": [
    {
     "name": "stdout",
     "output_type": "stream",
     "text": [
      "['cake', 'pizza', 'stew']\n",
      "['cake', 'pizza', 'stew']\n",
      "['cake', 'pizza', 'stew']\n"
     ]
    }
   ],
   "source": [
    "print(my_fav)\n",
    "print(frd_fav1)  #Copy by Value\n",
    "print(frd_fav2)  #Copy by Reference"
   ]
  },
  {
   "cell_type": "code",
   "execution_count": 9,
   "id": "01d7edcd",
   "metadata": {},
   "outputs": [],
   "source": [
    "my_fav.append('porridge')  # Add new element to original list"
   ]
  },
  {
   "cell_type": "code",
   "execution_count": 10,
   "id": "4cb33b4b",
   "metadata": {},
   "outputs": [
    {
     "name": "stdout",
     "output_type": "stream",
     "text": [
      "['cake', 'pizza', 'stew', 'porridge']\n",
      "['cake', 'pizza', 'stew']\n",
      "['cake', 'pizza', 'stew', 'porridge']\n"
     ]
    }
   ],
   "source": [
    "print(my_fav)\n",
    "print(frd_fav1)  #Copy by Value\n",
    "print(frd_fav2)  #Copy by Reference"
   ]
  },
  {
   "cell_type": "code",
   "execution_count": 11,
   "id": "051f8e21",
   "metadata": {},
   "outputs": [
    {
     "name": "stdout",
     "output_type": "stream",
     "text": [
      "3199166528896\n",
      "3199166467392\n",
      "3199166528896\n"
     ]
    }
   ],
   "source": [
    "print(id(my_fav))    #Original list Address\n",
    "print(id(frd_fav1))  # Copy by Value list Address\n",
    "print(id(frd_fav2))  #Copy by Reference list Address"
   ]
  },
  {
   "cell_type": "code",
   "execution_count": 12,
   "id": "debd6af6",
   "metadata": {},
   "outputs": [],
   "source": [
    "frd_copy = my_fav.copy()   # Inbuilt Copy function"
   ]
  },
  {
   "cell_type": "code",
   "execution_count": 13,
   "id": "50f5f5d2",
   "metadata": {},
   "outputs": [],
   "source": [
    "my_fav.append('ice-cream')  # Add new element to original list"
   ]
  },
  {
   "cell_type": "code",
   "execution_count": 14,
   "id": "56fc52b3",
   "metadata": {},
   "outputs": [
    {
     "name": "stdout",
     "output_type": "stream",
     "text": [
      "['cake', 'pizza', 'stew', 'porridge', 'ice-cream']\n",
      "['cake', 'pizza', 'stew', 'porridge']\n"
     ]
    }
   ],
   "source": [
    "print(my_fav)\n",
    "print(frd_copy)    # Copy by Value"
   ]
  },
  {
   "cell_type": "code",
   "execution_count": 15,
   "id": "147ce1d2",
   "metadata": {},
   "outputs": [
    {
     "name": "stdout",
     "output_type": "stream",
     "text": [
      "0\n",
      "1\n",
      "2\n",
      "3\n",
      "4\n",
      "5\n",
      "6\n",
      "7\n"
     ]
    }
   ],
   "source": [
    "#Looping through a Slice\n",
    "# Looping through a Slice\n",
    "for item in L[:8]:\n",
    "    print(item)"
   ]
  },
  {
   "cell_type": "code",
   "execution_count": 16,
   "id": "d0f40bb6",
   "metadata": {},
   "outputs": [
    {
     "name": "stdout",
     "output_type": "stream",
     "text": [
      "Cake\n",
      "Pizza\n",
      "Stew\n",
      "Porridge\n",
      "Ice-Cream\n"
     ]
    }
   ],
   "source": [
    "# Looping through a Slice\n",
    "for item in my_fav[:6]:\n",
    "    print(item.title())"
   ]
  },
  {
   "cell_type": "code",
   "execution_count": 17,
   "id": "8ab83e0f",
   "metadata": {},
   "outputs": [
    {
     "data": {
      "text/plain": [
       "100"
      ]
     },
     "execution_count": 17,
     "metadata": {},
     "output_type": "execute_result"
    }
   ],
   "source": [
    "#Understanding a Tuple\n",
    "t = (50,100) # Original Tuple\n",
    "t[1]"
   ]
  },
  {
   "cell_type": "code",
   "execution_count": 18,
   "id": "a84a06e5",
   "metadata": {},
   "outputs": [
    {
     "ename": "TypeError",
     "evalue": "'tuple' object does not support item assignment",
     "output_type": "error",
     "traceback": [
      "\u001b[31m---------------------------------------------------------------------------\u001b[39m",
      "\u001b[31mTypeError\u001b[39m                                 Traceback (most recent call last)",
      "\u001b[36mCell\u001b[39m\u001b[36m \u001b[39m\u001b[32mIn[18]\u001b[39m\u001b[32m, line 1\u001b[39m\n\u001b[32m----> \u001b[39m\u001b[32m1\u001b[39m \u001b[43mt\u001b[49m\u001b[43m[\u001b[49m\u001b[32;43m0\u001b[39;49m\u001b[43m]\u001b[49m = -\u001b[32m20\u001b[39m \u001b[38;5;66;03m#object does not support item assignment\u001b[39;00m\n",
      "\u001b[31mTypeError\u001b[39m: 'tuple' object does not support item assignment"
     ]
    }
   ],
   "source": [
    "t[0] = -20 #object does not support item assignment"
   ]
  },
  {
   "cell_type": "code",
   "execution_count": null,
   "id": "30acc1ee",
   "metadata": {},
   "outputs": [],
   "source": [
    "tup1 = (1,2,3,4,5,6,7) #Original tuple\n",
    "print(tup1)"
   ]
  },
  {
   "cell_type": "code",
   "execution_count": null,
   "id": "eec4ca56",
   "metadata": {},
   "outputs": [],
   "source": [
    "# Looping over a tuple\n",
    "for i in tup1:\n",
    "    print(i)"
   ]
  },
  {
   "cell_type": "code",
   "execution_count": null,
   "id": "1b1f07b0",
   "metadata": {},
   "outputs": [],
   "source": [
    "# Looping through a Slice (in tuple)\n",
    "for i in tup1[0:]:\n",
    "    print(i)"
   ]
  },
  {
   "cell_type": "code",
   "execution_count": null,
   "id": "7ef57147",
   "metadata": {},
   "outputs": [],
   "source": [
    "tup1 = (7,6,5,4,3,2,1) #Complete assignment (no error)\n",
    "print(tup1)"
   ]
  },
  {
   "cell_type": "code",
   "execution_count": null,
   "id": "9962053d",
   "metadata": {},
   "outputs": [],
   "source": [
    "#Dictionary\n",
    "student_1 = {'reg_no':'22MID0061', 'program':'python', 'cgpa':9.39, 'Attendace':100} # Original dict\n",
    "print(student_1)"
   ]
  },
  {
   "cell_type": "code",
   "execution_count": null,
   "id": "9515b830",
   "metadata": {},
   "outputs": [],
   "source": []
  }
 ],
 "metadata": {
  "kernelspec": {
   "display_name": "Python 3 (ipykernel)",
   "language": "python",
   "name": "python3"
  },
  "language_info": {
   "codemirror_mode": {
    "name": "ipython",
    "version": 3
   },
   "file_extension": ".py",
   "mimetype": "text/x-python",
   "name": "python",
   "nbconvert_exporter": "python",
   "pygments_lexer": "ipython3",
   "version": "3.13.3"
  }
 },
 "nbformat": 4,
 "nbformat_minor": 5
}
