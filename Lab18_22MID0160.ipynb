{
  "nbformat": 4,
  "nbformat_minor": 0,
  "metadata": {
    "colab": {
      "provenance": [],
      "include_colab_link": true
    },
    "kernelspec": {
      "name": "python3",
      "display_name": "Python 3"
    },
    "language_info": {
      "name": "python"
    }
  },
  "cells": [
    {
      "cell_type": "markdown",
      "metadata": {
        "id": "view-in-github",
        "colab_type": "text"
      },
      "source": [
        "<a href=\"https://colab.research.google.com/github/SathishVeera01/Advanced_Python_Lab/blob/main/Lab18_22MID0160.ipynb\" target=\"_parent\"><img src=\"https://colab.research.google.com/assets/colab-badge.svg\" alt=\"Open In Colab\"/></a>"
      ]
    },
    {
      "cell_type": "markdown",
      "source": [
        "##Name: Sathish V\n",
        "##Reg No: 22MID0160\n",
        "##Lab No: Lab Activity 18\n",
        "\n"
      ],
      "metadata": {
        "id": "rm6QVYzD1I-E"
      }
    },
    {
      "cell_type": "markdown",
      "source": [
        "Why VS Code?\n",
        "\n",
        "It is an IDE used to write and deploy applications in multiple languages. You can use it for practice purpose aswell.\n",
        "\n",
        "There are lot of extensions which supports Multiple functionalities. There is new Copilot AI which helps you and give suggestion while you code.\n",
        "\n",
        "\n",
        "Auto Fill is my favorite feature which was introduced in 2025.\n",
        "\n",
        "The extension we saw today is code runner which is used for compiling multiple language codes."
      ],
      "metadata": {
        "id": "PRRAjeZm12Gy"
      }
    },
    {
      "cell_type": "code",
      "execution_count": 3,
      "metadata": {
        "id": "pGgDjI8zyRwO"
      },
      "outputs": [],
      "source": [
        "import pandas as pd\n",
        "from textblob import TextBlob\n"
      ]
    },
    {
      "cell_type": "code",
      "source": [
        "data = pd.read_csv(r\"/content/drive/MyDrive/IMDB Dataset.csv\")\n",
        "print(data.head())"
      ],
      "metadata": {
        "colab": {
          "base_uri": "https://localhost:8080/"
        },
        "id": "vkOPiUdxziUw",
        "outputId": "70419902-f5a8-4425-f665-089afee3e6e1"
      },
      "execution_count": 4,
      "outputs": [
        {
          "output_type": "stream",
          "name": "stdout",
          "text": [
            "                                              review sentiment\n",
            "0  One of the other reviewers has mentioned that ...  positive\n",
            "1  A wonderful little production. <br /><br />The...  positive\n",
            "2  I thought this was a wonderful way to spend ti...  positive\n",
            "3  Basically there's a family where a little boy ...  negative\n",
            "4  Petter Mattei's \"Love in the Time of Money\" is...  positive\n"
          ]
        }
      ]
    },
    {
      "cell_type": "code",
      "source": [
        "from google.colab import drive\n",
        "drive.mount('/content/drive')"
      ],
      "metadata": {
        "colab": {
          "base_uri": "https://localhost:8080/"
        },
        "id": "mE-gbx91N19d",
        "outputId": "5438a9ad-232b-436b-973c-409b2b1ac59b"
      },
      "execution_count": 5,
      "outputs": [
        {
          "output_type": "stream",
          "name": "stdout",
          "text": [
            "Drive already mounted at /content/drive; to attempt to forcibly remount, call drive.mount(\"/content/drive\", force_remount=True).\n"
          ]
        }
      ]
    },
    {
      "cell_type": "code",
      "source": [
        "text = data.loc[2,\"review\"] #Perform SA for 2 review in dataset and check whether it matches.\n",
        "blob = TextBlob(text)\n",
        "\n",
        "print(\"Polarity:\", blob.sentiment.polarity)\n",
        "print(\"Subjectivity:\", blob.sentiment.subjectivity)\n",
        "\n",
        "if blob.sentiment.polarity > 0:\n",
        " print(\"Sentiment: Positive \")\n",
        "elif blob.sentiment.polarity < 0:\n",
        " print(\"Sentiment: Negative\")\n",
        "else:\n",
        " print(\"Sentiment: Neutral \")"
      ],
      "metadata": {
        "colab": {
          "base_uri": "https://localhost:8080/"
        },
        "id": "KxxK43_TzmmJ",
        "outputId": "0b25df3d-c7db-48c2-9d7d-8a42e6aa7dd5"
      },
      "execution_count": 6,
      "outputs": [
        {
          "output_type": "stream",
          "name": "stdout",
          "text": [
            "Polarity: 0.35400793650793644\n",
            "Subjectivity: 0.6587301587301588\n",
            "Sentiment: Positive \n"
          ]
        }
      ]
    },
    {
      "cell_type": "markdown",
      "source": [
        "##Task-2\n"
      ],
      "metadata": {
        "id": "dxyMO5ix1vQm"
      }
    },
    {
      "cell_type": "code",
      "source": [
        "import matplotlib.pyplot as plt\n",
        "month = [\"Jan\", \"Feb\", \"March\", \"April\"]\n",
        "Pay = [30000, 270000, 350000, 40000]\n",
        "plt.bar(month, Pay, color='yellow')\n",
        "plt.title(\"Pay Graph\")\n",
        "plt.xlabel(\"month\")\n",
        "plt.ylabel(\"Pay\")\n",
        "plt.show()"
      ],
      "metadata": {
        "colab": {
          "base_uri": "https://localhost:8080/",
          "height": 472
        },
        "id": "rki048mI1ucZ",
        "outputId": "5653d50b-0a6c-4822-956c-ddf2f25a07c1"
      },
      "execution_count": 7,
      "outputs": [
        {
          "output_type": "display_data",
          "data": {
            "text/plain": [
              "<Figure size 640x480 with 1 Axes>"
            ],
            "image/png": "[encoded data removed]"
          },
          "metadata": {}
        }
      ]
    },
    {
      "cell_type": "markdown",
      "source": [
        "##Task-3\n"
      ],
      "metadata": {
        "id": "PzVYlfyt3aT0"
      }
    },
    {
      "cell_type": "code",
      "source": [
        "pip install qrcode"
      ],
      "metadata": {
        "colab": {
          "base_uri": "https://localhost:8080/"
        },
        "id": "BRa55ZAJ3vpH",
        "outputId": "7bfd5a01-0d12-41fb-af46-53b6e7fd7d7d"
      },
      "execution_count": 8,
      "outputs": [
        {
          "output_type": "stream",
          "name": "stdout",
          "text": [
            "Collecting qrcode\n",
            "  Downloading qrcode-8.2-py3-none-any.whl.metadata (17 kB)\n",
            "Downloading qrcode-8.2-py3-none-any.whl (45 kB)\n",
            "\u001b[?25l   \u001b[90m━━━━━━━━━━━━━━━━━━━━━━━━━━━━━━━━━━━━━━━━\u001b[0m \u001b[32m0.0/46.0 kB\u001b[0m \u001b[31m?\u001b[0m eta \u001b[36m-:--:--\u001b[0m\r\u001b[2K   \u001b[90m━━━━━━━━━━━━━━━━━━━━━━━━━━━━━━━━━━━━━━━━\u001b[0m \u001b[32m46.0/46.0 kB\u001b[0m \u001b[31m3.2 MB/s\u001b[0m eta \u001b[36m0:00:00\u001b[0m\n",
            "\u001b[?25hInstalling collected packages: qrcode\n",
            "Successfully installed qrcode-8.2\n"
          ]
        }
      ]
    },
    {
      "cell_type": "code",
      "source": [
        "import qrcode\n",
        "import numpy as np\n",
        "from PIL import Image\n",
        "\n",
        "data = \"https://github.com/SathishVeera01/\"\n",
        "qr = qrcode.make(data)\n",
        "qr_filename = \"linkedin_qr.png\"\n",
        "qr.save(qr_filename)\n",
        "print(\"QR Code Has Been Generated\")\n",
        "img = np.asarray(Image.open(qr_filename))\n",
        "plt.imshow(img)"
      ],
      "metadata": {
        "colab": {
          "base_uri": "https://localhost:8080/",
          "height": 471
        },
        "id": "WP3iO0S53TiS",
        "outputId": "76ec8173-9a07-4065-a8e8-aa365553292a"
      },
      "execution_count": 9,
      "outputs": [
        {
          "output_type": "stream",
          "name": "stdout",
          "text": [
            "QR Code Has Been Generated\n"
          ]
        },
        {
          "output_type": "execute_result",
          "data": {
            "text/plain": [
              "<matplotlib.image.AxesImage at 0x786f45ab8770>"
            ]
          },
          "metadata": {},
          "execution_count": 9
        },
        {
          "output_type": "display_data",
          "data": {
            "text/plain": [
              "<Figure size 640x480 with 1 Axes>"
            ],
            "image/png": "[encoded data removed]"
          },
          "metadata": {}
        }
      ]
    }
  ]
}