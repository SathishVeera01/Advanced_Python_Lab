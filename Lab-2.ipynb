{
 "cells": [
  {
   "cell_type": "markdown",
   "id": "d3a98324-ab74-452b-ba1c-79ed5793dd73",
   "metadata": {},
   "source": [
    "# Python Lab-2"
   ]
  },
  {
   "cell_type": "markdown",
   "id": "0096940d-860a-45d6-91b2-ee63aff1aada",
   "metadata": {},
   "source": [
    "# Strings in Python"
   ]
  },
  {
   "cell_type": "code",
   "execution_count": 1,
   "id": "c07f920f-7c11-4d56-8f98-2e9a28cc4498",
   "metadata": {},
   "outputs": [
    {
     "name": "stdout",
     "output_type": "stream",
     "text": [
      "Hello, 'I am Sathish V'\n"
     ]
    }
   ],
   "source": [
    "str1 = \"Hello, 'I am Sathish V'\"\n",
    "print(str1)"
   ]
  },
  {
   "cell_type": "code",
   "execution_count": 2,
   "id": "dcbbe479-5e65-4dd4-acc4-f0a76930f60e",
   "metadata": {},
   "outputs": [
    {
     "name": "stdout",
     "output_type": "stream",
     "text": [
      "Hi, \"How are you doing?\"\n"
     ]
    }
   ],
   "source": [
    "str2 = 'Hi, \"How are you doing?\"'\n",
    "print(str2)"
   ]
  },
  {
   "cell_type": "code",
   "execution_count": 3,
   "id": "24c8a556-f43d-4a65-9ac5-8d9efacfa571",
   "metadata": {},
   "outputs": [
    {
     "name": "stdout",
     "output_type": "stream",
     "text": [
      "\n",
      "    Python is a 'simple' programming language.\n",
      "    It is a \"interpreter\".\n",
      "\n"
     ]
    }
   ],
   "source": [
    "text = '''\n",
    "    Python is a 'simple' programming language.\n",
    "    It is a \"interpreter\".\n",
    "'''\n",
    "print(text)"
   ]
  },
  {
   "cell_type": "code",
   "execution_count": 4,
   "id": "935f5b61-4f5b-4866-b88b-d235bb597e66",
   "metadata": {},
   "outputs": [
    {
     "name": "stdout",
     "output_type": "stream",
     "text": [
      "Hello, SATHISH VEERA\n"
     ]
    }
   ],
   "source": [
    "first_name = \"Sathish\"\n",
    "last_name = \"Veera\"\n",
    "print(f'Hello, {first_name.upper()} {last_name.upper()}')"
   ]
  },
  {
   "cell_type": "code",
   "execution_count": 5,
   "id": "8f74b95a-03f2-4251-b7ea-dfde2d51403a",
   "metadata": {},
   "outputs": [
    {
     "name": "stdout",
     "output_type": "stream",
     "text": [
      "Sathish\n"
     ]
    }
   ],
   "source": [
    "str3 = 'sathish'\n",
    "print(str3.title())"
   ]
  },
  {
   "cell_type": "code",
   "execution_count": 10,
   "id": "62b742dc-2313-45f3-912b-55fa8332ea98",
   "metadata": {},
   "outputs": [
    {
     "name": "stdout",
     "output_type": "stream",
     "text": [
      "Requirement already satisfied: jieba in c:\\users\\monee\\appdata\\local\\programs\\python\\python39\\lib\\site-packages (0.42.1)\n",
      "Note: you may need to restart the kernel to use updated packages.\n"
     ]
    }
   ],
   "source": [
    "pip install jieba"
   ]
  },
  {
   "cell_type": "markdown",
   "id": "5572e954-e983-4be4-b683-205539b10661",
   "metadata": {},
   "source": [
    "# Chinese Segmented Package"
   ]
  },
  {
   "cell_type": "code",
   "execution_count": 13,
   "id": "cc0c6401-07fc-4a19-9db8-bc6208b552ec",
   "metadata": {},
   "outputs": [
    {
     "data": {
      "text/plain": [
       "<generator object Tokenizer.cut at 0x000001D6E2851120>"
      ]
     },
     "execution_count": 13,
     "metadata": {},
     "output_type": "execute_result"
    }
   ],
   "source": [
    "import jieba\n",
    "data = '（书、杂志等中区别于图片的）正文，文字材料\\n'\n",
    "seg_list = jieba.cut(data,cut_all=True)\n",
    "seg_list"
   ]
  },
  {
   "cell_type": "code",
   "execution_count": 14,
   "id": "78df0ee6-827d-4dd5-b37b-3b8eb30f35c7",
   "metadata": {},
   "outputs": [
    {
     "name": "stderr",
     "output_type": "stream",
     "text": [
      "Building prefix dict from the default dictionary ...\n",
      "Dumping model to file cache C:\\Users\\monee\\AppData\\Local\\Temp\\jieba.cache\n",
      "Loading model cost 2.038 seconds.\n",
      "Prefix dict has been built successfully.\n"
     ]
    }
   ],
   "source": [
    "new_text = (\" \".join(seg_list))\n"
   ]
  },
  {
   "cell_type": "code",
   "execution_count": 15,
   "id": "4f80dd08-a594-49f0-9506-c6bbff17ccd6",
   "metadata": {},
   "outputs": [
    {
     "data": {
      "text/plain": [
       "'（ 书 、 杂志 等 中区 区别 于 图片 的 ） 正文 ， 文字 材料  \\n '"
      ]
     },
     "execution_count": 15,
     "metadata": {},
     "output_type": "execute_result"
    }
   ],
   "source": [
    "new_text"
   ]
  },
  {
   "cell_type": "markdown",
   "id": "7e5ce1a4-cdaa-4550-bf2f-673e5695cef4",
   "metadata": {},
   "source": [
    " # Text Processing"
   ]
  },
  {
   "cell_type": "code",
   "execution_count": 16,
   "id": "cfd4e3a1-035e-4b7b-b7ef-07e07b241b43",
   "metadata": {},
   "outputs": [],
   "source": [
    "from urllib import request\n",
    "url=\"https://www.gutenberg.org/cache/epub/76571/pg76571.txt\"\n",
    "response = request.urlopen(url)\n",
    "raw = response.read().decode('utf-8')"
   ]
  },
  {
   "cell_type": "code",
   "execution_count": 18,
   "id": "0c339144-db00-41cd-a9eb-81dbbce418c9",
   "metadata": {},
   "outputs": [],
   "source": [
    "import nltk\n",
    "from nltk.tokenize import word_tokenize"
   ]
  },
  {
   "cell_type": "code",
   "execution_count": null,
   "id": "28642a65-3a02-43eb-84e1-a5aaa000c7b9",
   "metadata": {},
   "outputs": [
    {
     "name": "stdout",
     "output_type": "stream",
     "text": [
      "showing info https://raw.githubusercontent.com/nltk/nltk_data/gh-pages/index.xml\n"
     ]
    }
   ],
   "source": [
    "nltk.download()\n",
    "response = request.urlopen(url)\n",
    "tokens = word_tokenize(raw)"
   ]
  },
  {
   "cell_type": "code",
   "execution_count": null,
   "id": "37858e4f-2bbd-4658-8e00-668f68b8f785",
   "metadata": {},
   "outputs": [],
   "source": [
    "print(tokens[:200])"
   ]
  },
  {
   "cell_type": "code",
   "execution_count": null,
   "id": "aef11693-74d2-4988-9d97-ce186b88b6e5",
   "metadata": {},
   "outputs": [],
   "source": [
    "len(tokens)"
   ]
  },
  {
   "cell_type": "code",
   "execution_count": null,
   "id": "675d55db-e15e-42a6-80b6-96b0fc7a4286",
   "metadata": {},
   "outputs": [],
   "source": [
    "type(raw)"
   ]
  },
  {
   "cell_type": "code",
   "execution_count": null,
   "id": "d0162564-8fd8-4665-a3ca-500047761291",
   "metadata": {},
   "outputs": [],
   "source": [
    "from nltk.probability import FreqDist\n",
    "fdist = FreqDist(tokens)\n",
    "print(fdist.most_common(5))\n",
    "fdist.plot(10)"
   ]
  },
  {
   "cell_type": "code",
   "execution_count": null,
   "id": "47d8944d-2079-4b41-a7d1-57dee689f436",
   "metadata": {},
   "outputs": [],
   "source": []
  }
 ],
 "metadata": {
  "kernelspec": {
   "display_name": "Python 3 (ipykernel)",
   "language": "python",
   "name": "python3"
  },
  "language_info": {
   "codemirror_mode": {
    "name": "ipython",
    "version": 3
   },
   "file_extension": ".py",
   "mimetype": "text/x-python",
   "name": "python",
   "nbconvert_exporter": "python",
   "pygments_lexer": "ipython3",
   "version": "3.9.11"
  }
 },
 "nbformat": 4,
 "nbformat_minor": 5
}
