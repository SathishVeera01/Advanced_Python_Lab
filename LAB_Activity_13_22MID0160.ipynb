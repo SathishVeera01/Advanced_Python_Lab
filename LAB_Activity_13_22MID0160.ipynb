{
  "cells": [
    {
      "cell_type": "markdown",
      "metadata": {
        "id": "view-in-github",
        "colab_type": "text"
      },
      "source": [
        "<a href=\"https://colab.research.google.com/github/SathishVeera01/Advanced_Python_Lab/blob/main/LAB_Activity_13_22MID0160.ipynb\" target=\"_parent\"><img src=\"https://colab.research.google.com/assets/colab-badge.svg\" alt=\"Open In Colab\"/></a>"
      ]
    },
    {
      "cell_type": "markdown",
      "id": "2982ebaf",
      "metadata": {
        "id": "2982ebaf"
      },
      "source": [
        "## LAB ACTIVITY 13\n",
        "## NAME : Sathish V; REG NO : 22MID0160; COURSE CODE: CSI3007; LAB : L27+L28;\n",
        "## DATE : 12/09/2025"
      ]
    },
    {
      "cell_type": "markdown",
      "id": "a21577d0",
      "metadata": {
        "id": "a21577d0"
      },
      "source": [
        "# TASK-4: Creating Numpy Arrays"
      ]
    },
    {
      "cell_type": "markdown",
      "id": "78fb6182-3fea-455b-a8a6-e0692d33efb8",
      "metadata": {
        "id": "78fb6182-3fea-455b-a8a6-e0692d33efb8"
      },
      "source": [
        "## 1. array() method in numpy"
      ]
    },
    {
      "cell_type": "code",
      "execution_count": null,
      "id": "98588302",
      "metadata": {
        "id": "98588302",
        "outputId": "80326e94-97e7-45b4-e23b-109ec2a4a55b"
      },
      "outputs": [
        {
          "name": "stdout",
          "output_type": "stream",
          "text": [
            "[[1 2 3]\n",
            " [4 5 6]]\n"
          ]
        }
      ],
      "source": [
        "import numpy as np\n",
        "arr = np.array([[1, 2, 3], [4, 5, 6]]) # Creating a 2-D Array\n",
        "print(arr)"
      ]
    },
    {
      "cell_type": "markdown",
      "id": "1befb74b-0ab9-4b79-9164-d09251a4c9aa",
      "metadata": {
        "id": "1befb74b-0ab9-4b79-9164-d09251a4c9aa"
      },
      "source": [
        "## 2. Attributes of numpy: size, shape, ndim"
      ]
    },
    {
      "cell_type": "code",
      "execution_count": null,
      "id": "f86ac93c",
      "metadata": {
        "id": "f86ac93c",
        "outputId": "a68fa0f2-51f7-4303-b160-d6e36e917abb"
      },
      "outputs": [
        {
          "name": "stdout",
          "output_type": "stream",
          "text": [
            "6\n"
          ]
        }
      ],
      "source": [
        "print(arr.size) # Displays the number of elements in a array"
      ]
    },
    {
      "cell_type": "code",
      "execution_count": null,
      "id": "0c2e9a93",
      "metadata": {
        "id": "0c2e9a93",
        "outputId": "b86b9c89-fc69-425f-fe39-9f637c0deb69"
      },
      "outputs": [
        {
          "name": "stdout",
          "output_type": "stream",
          "text": [
            "(2, 3)\n"
          ]
        }
      ],
      "source": [
        "print(arr.shape) # Display the rows and columns"
      ]
    },
    {
      "cell_type": "code",
      "execution_count": null,
      "id": "c7bc85b8",
      "metadata": {
        "id": "c7bc85b8",
        "outputId": "d66900aa-dcf2-4395-af41-bd63ade5d9e3"
      },
      "outputs": [
        {
          "name": "stdout",
          "output_type": "stream",
          "text": [
            "2\n"
          ]
        }
      ],
      "source": [
        "print(arr.ndim) # Displays the dimension of array"
      ]
    },
    {
      "cell_type": "markdown",
      "id": "ef1e21bc-8ef1-45c5-aaac-31a879e4e948",
      "metadata": {
        "id": "ef1e21bc-8ef1-45c5-aaac-31a879e4e948"
      },
      "source": [
        "## 3. reshape() method in numpy"
      ]
    },
    {
      "cell_type": "code",
      "execution_count": null,
      "id": "99f9ce87",
      "metadata": {
        "id": "99f9ce87",
        "outputId": "a7281661-4d8f-4690-ea71-a42c67c667b8"
      },
      "outputs": [
        {
          "name": "stdout",
          "output_type": "stream",
          "text": [
            "Original array: [1 2 3 4 5 6]\n",
            "Original shape: (6,)\n"
          ]
        }
      ],
      "source": [
        "# Create a 1D array\n",
        "arr = np.array([1, 2, 3, 4, 5, 6])\n",
        "print(\"Original array:\", arr)\n",
        "print(\"Original shape:\", arr.shape)"
      ]
    },
    {
      "cell_type": "code",
      "execution_count": null,
      "id": "fc0b4de5",
      "metadata": {
        "id": "fc0b4de5",
        "outputId": "dd3be859-f366-4d7a-f475-06d77d657a68"
      },
      "outputs": [
        {
          "name": "stdout",
          "output_type": "stream",
          "text": [
            "[[1 2 3]\n",
            " [4 5 6]]\n",
            "New shape: (2, 3)\n"
          ]
        }
      ],
      "source": [
        "# Reshape to a 2D array (2 rows, 3 columns)\n",
        "reshaped_arr = arr.reshape(2, 3) # Reshape a 1-D array to 2-D array\n",
        "print(reshaped_arr)\n",
        "print(\"New shape:\", reshaped_arr.shape)"
      ]
    },
    {
      "cell_type": "markdown",
      "id": "ab0decd8-47ee-4bf6-ac59-c734f203c319",
      "metadata": {
        "id": "ab0decd8-47ee-4bf6-ac59-c734f203c319"
      },
      "source": [
        "## 4. arange() method in numpy"
      ]
    },
    {
      "cell_type": "code",
      "execution_count": null,
      "id": "4a92186b",
      "metadata": {
        "id": "4a92186b",
        "outputId": "0c31402a-b148-4aec-af58-930aa0c3396d"
      },
      "outputs": [
        {
          "data": {
            "text/plain": [
              "array([  0,   2,  12,  36,  80, 150, 252, 392, 576, 810])"
            ]
          },
          "execution_count": 20,
          "metadata": {},
          "output_type": "execute_result"
        }
      ],
      "source": [
        "import numpy as np\n",
        "def numpysum(n):\n",
        "  a = np.arange(n) ** 2  #Creates an array [0,1,..n-1] and element-wise sqauring\n",
        "  b = np.arange(n) ** 3\n",
        "  c = a + b #element wise adding - NO LOOP Overhead, hence Memory Efficient\n",
        "  return c\n",
        "\n",
        "numpysum(10) # function call"
      ]
    },
    {
      "cell_type": "code",
      "execution_count": null,
      "id": "84fac628-7935-4225-b021-2ae30e691cd1",
      "metadata": {
        "id": "84fac628-7935-4225-b021-2ae30e691cd1",
        "outputId": "f750edaf-cc17-4268-baf6-36aaf8bed2f2"
      },
      "outputs": [
        {
          "data": {
            "text/plain": [
              "array([0, 1, 2, 3, 4, 5, 6, 7, 8, 9])"
            ]
          },
          "execution_count": 41,
          "metadata": {},
          "output_type": "execute_result"
        }
      ],
      "source": [
        "#ARRAY CREATION FUNCTIONS\n",
        "import numpy as np\n",
        "np.arange(10) # 0 TO BEFORE 10, Step Value 1"
      ]
    },
    {
      "cell_type": "code",
      "execution_count": null,
      "id": "b05d795a-54f9-43ee-9f4b-b6bdae441195",
      "metadata": {
        "id": "b05d795a-54f9-43ee-9f4b-b6bdae441195",
        "outputId": "6cb76312-4b4a-4820-8d43-1fedb2f5ede1"
      },
      "outputs": [
        {
          "data": {
            "text/plain": [
              "array([2., 3., 4., 5., 6., 7., 8., 9.])"
            ]
          },
          "execution_count": 43,
          "metadata": {},
          "output_type": "execute_result"
        }
      ],
      "source": [
        "np.arange(2, 10, dtype=float) # 2. to Before 10., step value 1."
      ]
    },
    {
      "cell_type": "code",
      "execution_count": null,
      "id": "c0450287-7877-418a-ab95-83ae81a815e8",
      "metadata": {
        "id": "c0450287-7877-418a-ab95-83ae81a815e8",
        "outputId": "d60421a5-307e-4a03-bc63-15474655144b"
      },
      "outputs": [
        {
          "data": {
            "text/plain": [
              "array([2. , 2.1, 2.2, 2.3, 2.4, 2.5, 2.6, 2.7, 2.8, 2.9])"
            ]
          },
          "execution_count": 47,
          "metadata": {},
          "output_type": "execute_result"
        }
      ],
      "source": [
        "np.arange(2, 3, 0.1) # 2 to Before 3, step value 0.1."
      ]
    },
    {
      "cell_type": "markdown",
      "id": "151c68b0-1b01-4018-96c1-ddf0100e40d7",
      "metadata": {
        "id": "151c68b0-1b01-4018-96c1-ddf0100e40d7"
      },
      "source": [
        "## 5. Array creation with different dimension using array() method from numpy module"
      ]
    },
    {
      "cell_type": "code",
      "execution_count": null,
      "id": "ff6ca1e8",
      "metadata": {
        "id": "ff6ca1e8",
        "outputId": "07d2b19d-555f-42a9-ef2e-f90e95f186ad"
      },
      "outputs": [
        {
          "name": "stdout",
          "output_type": "stream",
          "text": [
            "[1 2 3 4]\n"
          ]
        }
      ],
      "source": [
        "#Creating Arrays from Sequences\n",
        "#a list of numbers will create a 1D array,\n",
        "a1D = np.array([1, 2, 3, 4])\n",
        "print(a1D)"
      ]
    },
    {
      "cell_type": "code",
      "execution_count": null,
      "id": "3072b791",
      "metadata": {
        "id": "3072b791",
        "outputId": "310f63ad-4a22-4061-9293-2e5d21d5940e"
      },
      "outputs": [
        {
          "name": "stdout",
          "output_type": "stream",
          "text": [
            "[[1 2]\n",
            " [3 4]]\n"
          ]
        }
      ],
      "source": [
        "#a list of lists will create a 2D array\n",
        "a2D = np.array([[1, 2], [3, 4]])\n",
        "print(a2D)"
      ]
    },
    {
      "cell_type": "code",
      "execution_count": null,
      "id": "a1edc2a1",
      "metadata": {
        "id": "a1edc2a1",
        "outputId": "ac33efee-e8c4-4805-d3bc-75b287a07bf1"
      },
      "outputs": [
        {
          "name": "stdout",
          "output_type": "stream",
          "text": [
            "[[[1 2]\n",
            "  [3 4]]\n",
            "\n",
            " [[5 6]\n",
            "  [7 8]]]\n"
          ]
        }
      ],
      "source": [
        "#further nested lists will create higher-dimensional arrays.\n",
        "#In general, any array object is called an ndarray in NumPy.\n",
        "a3D = np.array([[[1, 2], [3, 4]], [[5, 6], [7, 8]]])\n",
        "print(a3D)"
      ]
    },
    {
      "cell_type": "markdown",
      "id": "07e684fc-54dc-48ba-b828-92868b518c1f",
      "metadata": {
        "id": "07e684fc-54dc-48ba-b828-92868b518c1f"
      },
      "source": [
        "## 6. dtype attribute in numpy"
      ]
    },
    {
      "cell_type": "code",
      "execution_count": null,
      "id": "0aefa3d9",
      "metadata": {
        "id": "0aefa3d9",
        "outputId": "b0e48890-de90-4f32-e408-b441d33ed689"
      },
      "outputs": [
        {
          "data": {
            "text/plain": [
              "array([127, 128, 129])"
            ]
          },
          "execution_count": 32,
          "metadata": {},
          "output_type": "execute_result"
        }
      ],
      "source": [
        "import numpy as np\n",
        "np.array([127, 128, 129], dtype=np.int32)"
      ]
    },
    {
      "cell_type": "markdown",
      "id": "fcc5d499",
      "metadata": {
        "id": "fcc5d499"
      },
      "source": [
        "| Name       | Alias(es)       | Size   | Range                           |\n",
        "| ---------- | --------------- | ------ | ------------------------------- |\n",
        "| `np.int8`  | `int8`          | 8-bit  | −128 to 127                     |\n",
        "| `np.int16` | `int16`         | 16-bit | −32,768 to 32,767               |\n",
        "| `np.int32` | `int32`, `int_` | 32-bit | −2,147,483,648 to 2,147,483,647 |\n",
        "| `np.int64` | `int64`         | 64-bit | −9.2e18 to 9.2e18 (approx.)     |\n"
      ]
    },
    {
      "cell_type": "code",
      "execution_count": null,
      "id": "83e73264",
      "metadata": {
        "id": "83e73264",
        "outputId": "841566d5-5482-4db6-deee-778ca829c15d"
      },
      "outputs": [
        {
          "name": "stderr",
          "output_type": "stream",
          "text": [
            "C:\\Users\\sonal\\AppData\\Local\\Temp\\ipykernel_8540\\1407719730.py:2: DeprecationWarning: NumPy will stop allowing conversion of out-of-bound Python integers to integer arrays.  The conversion of 128 to int8 will fail in the future.\n",
            "For the old behavior, usually:\n",
            "    np.array(value).astype(dtype)\n",
            "will give the desired result (the cast overflows).\n",
            "  np.array([127, 128, 129], dtype=np.int8)\n",
            "C:\\Users\\sonal\\AppData\\Local\\Temp\\ipykernel_8540\\1407719730.py:2: DeprecationWarning: NumPy will stop allowing conversion of out-of-bound Python integers to integer arrays.  The conversion of 129 to int8 will fail in the future.\n",
            "For the old behavior, usually:\n",
            "    np.array(value).astype(dtype)\n",
            "will give the desired result (the cast overflows).\n",
            "  np.array([127, 128, 129], dtype=np.int8)\n"
          ]
        },
        {
          "data": {
            "text/plain": [
              "array([ 127, -128, -127], dtype=int8)"
            ]
          },
          "execution_count": 37,
          "metadata": {},
          "output_type": "execute_result"
        }
      ],
      "source": [
        "import numpy as np\n",
        "np.array([127, 128, 129], dtype=np.int8)\n",
        "# Error: OverflowError because the np.int8 data type cannot hold the values 128 and 129 (Here DeprecationWarning: based on python version)"
      ]
    },
    {
      "cell_type": "markdown",
      "id": "7c90b2bc-a1cb-4a4d-83a4-8dd76e35100b",
      "metadata": {
        "id": "7c90b2bc-a1cb-4a4d-83a4-8dd76e35100b"
      },
      "source": [
        "## 7. linspace() method in numpy"
      ]
    },
    {
      "cell_type": "code",
      "execution_count": null,
      "id": "e15fe582",
      "metadata": {
        "id": "e15fe582",
        "outputId": "094e2f53-bd88-4db3-8ed2-84e94802ba31"
      },
      "outputs": [
        {
          "data": {
            "text/plain": [
              "array([1. , 1.6, 2.2, 2.8, 3.4, 4. ])"
            ]
          },
          "execution_count": 50,
          "metadata": {},
          "output_type": "execute_result"
        }
      ],
      "source": [
        "#numpy.linspace will create arrays with a specified number of elements, and spaced equally between the specified beginning and end values.\n",
        "\n",
        "#For example:\n",
        "# np.linspace(start, stop, num)\n",
        "\n",
        "# Start: 1.0\n",
        "\n",
        "# Stop: 4.0\n",
        "\n",
        "# num: 6 (number of samples including both endpoints)\n",
        "\n",
        "# The interval is divided into 5 equal steps (because 6 points mean 5 intervals).\n",
        "np.linspace(1., 4., 6)"
      ]
    },
    {
      "cell_type": "markdown",
      "id": "a01a91fa-5f9a-4c39-8bdc-5ac0e8ff217e",
      "metadata": {
        "id": "a01a91fa-5f9a-4c39-8bdc-5ac0e8ff217e"
      },
      "source": [
        "## 8. eye() method in numpy"
      ]
    },
    {
      "cell_type": "code",
      "execution_count": null,
      "id": "8884c605",
      "metadata": {
        "id": "8884c605",
        "outputId": "15a932aa-0a8b-4ddd-fb5b-56f86945011c"
      },
      "outputs": [
        {
          "data": {
            "text/plain": [
              "array([[1., 0., 0.],\n",
              "       [0., 1., 0.],\n",
              "       [0., 0., 1.]])"
            ]
          },
          "execution_count": 53,
          "metadata": {},
          "output_type": "execute_result"
        }
      ],
      "source": [
        "#2D Array Creation functions\n",
        "#properties of special matrices represented as 2D arrays.\n",
        "np.eye(3) # Identity matrice of 3X3\n"
      ]
    },
    {
      "cell_type": "code",
      "execution_count": null,
      "id": "cd4ba97f",
      "metadata": {
        "id": "cd4ba97f",
        "outputId": "bcf924ef-42e1-4f6e-8e40-3d89d2dcd8c6"
      },
      "outputs": [
        {
          "data": {
            "text/plain": [
              "array([[1., 0., 0., 0., 0.],\n",
              "       [0., 1., 0., 0., 0.],\n",
              "       [0., 0., 1., 0., 0.]])"
            ]
          },
          "execution_count": 55,
          "metadata": {},
          "output_type": "execute_result"
        }
      ],
      "source": [
        "np.eye(3, 5)   # Identity matrice of 3X5"
      ]
    },
    {
      "cell_type": "code",
      "execution_count": null,
      "id": "878dbf1a",
      "metadata": {
        "id": "878dbf1a",
        "outputId": "9ab61735-f95a-48b8-955d-aea5ad580c4a"
      },
      "outputs": [
        {
          "data": {
            "text/plain": [
              "array([[0., 0., 0., 0., 0.],\n",
              "       [0., 0., 0., 0., 0.],\n",
              "       [1., 0., 0., 0., 0.]])"
            ]
          },
          "execution_count": 57,
          "metadata": {},
          "output_type": "execute_result"
        }
      ],
      "source": [
        "np.eye(3, 5, k=-2) #optional k argument\n",
        "# When k is negative (e.g., k=-2), the diagonal shifts below the main diagonal\n",
        "# when k is positive (e.g., k=1), the diagonal shifts above the main diagonal."
      ]
    },
    {
      "cell_type": "code",
      "execution_count": null,
      "id": "fd3c70b4",
      "metadata": {
        "id": "fd3c70b4",
        "outputId": "6dda9345-9c40-4089-d784-ae3511f78dd6"
      },
      "outputs": [
        {
          "data": {
            "text/plain": [
              "array([[0., 0., 1., 0., 0.],\n",
              "       [0., 0., 0., 1., 0.],\n",
              "       [0., 0., 0., 0., 1.]])"
            ]
          },
          "execution_count": 59,
          "metadata": {},
          "output_type": "execute_result"
        }
      ],
      "source": [
        "np.eye(3, 5, k=2) # Positive k argument"
      ]
    },
    {
      "cell_type": "markdown",
      "id": "78b3c48a-d6f2-4d73-b09f-8661c03641df",
      "metadata": {
        "id": "78b3c48a-d6f2-4d73-b09f-8661c03641df"
      },
      "source": [
        "## 9. diag() method in numpy"
      ]
    },
    {
      "cell_type": "code",
      "execution_count": null,
      "id": "72fbea8f",
      "metadata": {
        "id": "72fbea8f",
        "outputId": "4f651e6d-e2f7-430f-e588-6b41211f9861"
      },
      "outputs": [
        {
          "data": {
            "text/plain": [
              "array([[1, 0, 0],\n",
              "       [0, 2, 0],\n",
              "       [0, 0, 3]])"
            ]
          },
          "execution_count": 74,
          "metadata": {},
          "output_type": "execute_result"
        }
      ],
      "source": [
        "# It returns an array containing the elements of the specified diagonal.\n",
        "np.diag([1, 2, 3])"
      ]
    },
    {
      "cell_type": "code",
      "execution_count": null,
      "id": "995d6cce-2b94-473f-8b37-de724d0b2488",
      "metadata": {
        "id": "995d6cce-2b94-473f-8b37-de724d0b2488"
      },
      "outputs": [],
      "source": [
        "# np.diag(v, k=1):\n",
        "# When v is a 1D array, np.diag creates v 2D square matrix with a placed along the k-th diagonal.\n",
        "# k=1 → the diagonal above the main (first superdiagonal).\n",
        "# k=0 (default) extracts the main diagonal.\n",
        "# k > 0 extracts diagonals above the main diagonal.\n",
        "# k < 0 extracts diagonals below the main diagonal."
      ]
    },
    {
      "cell_type": "code",
      "execution_count": null,
      "id": "71795df1",
      "metadata": {
        "id": "71795df1",
        "outputId": "2010cfdf-a997-4f2c-f66d-964c9b103d60"
      },
      "outputs": [
        {
          "data": {
            "text/plain": [
              "array([[0, 1, 0, 0],\n",
              "       [0, 0, 2, 0],\n",
              "       [0, 0, 0, 3],\n",
              "       [0, 0, 0, 0]])"
            ]
          },
          "execution_count": 78,
          "metadata": {},
          "output_type": "execute_result"
        }
      ],
      "source": [
        "# To hold this upper diagonal, NumPy creates a (n + k) × (n + k) square matrix, where n is the length of the input array.\n",
        "# So for [1, 2, 3]: Length = 3, k = 1, Matrix shape = 4 × 4\n",
        "# Diagonal values are placed at positions: (0,1), (1,2), (2,3)\n",
        "np.diag([1, 2, 3], 1)"
      ]
    },
    {
      "cell_type": "code",
      "execution_count": null,
      "id": "0d5234c4",
      "metadata": {
        "id": "0d5234c4",
        "outputId": "37715fbb-f556-47e1-8daf-0d71d42bb245"
      },
      "outputs": [
        {
          "data": {
            "text/plain": [
              "array([1, 4])"
            ]
          },
          "execution_count": 84,
          "metadata": {},
          "output_type": "execute_result"
        }
      ],
      "source": [
        "# numpy.diag can define either a square 2D array with given values along the diagonal or if given a 2D array\n",
        "# It returns a 1D array that is only the diagonal elements.\n",
        "\n",
        "a = np.array([[1, 2], [3, 4]])\n",
        "np.diag(a)"
      ]
    },
    {
      "cell_type": "markdown",
      "id": "1e5835b7-128d-47c7-86ff-5d04bd417680",
      "metadata": {
        "id": "1e5835b7-128d-47c7-86ff-5d04bd417680"
      },
      "source": [
        "## 10. Vandermonde Matrix"
      ]
    },
    {
      "cell_type": "code",
      "execution_count": null,
      "id": "9a057433-0b03-4d1c-8d10-57fbecf85272",
      "metadata": {
        "id": "9a057433-0b03-4d1c-8d10-57fbecf85272"
      },
      "outputs": [],
      "source": [
        "#np.vander(x, N) creates a Vandermonde matrix from a 1D input array x.\n",
        "\n",
        "# [[x₁**(N-1), x₁**(N-2), ..., x₁**0],\n",
        "#  [x₂**(N-1), x₂**(N-2), ..., x₂**0],\n",
        "#  ...\n",
        "#  [xₙ**(N-1), xₙ**(N-2), ..., xₙ**0]]\n",
        "\n",
        "# So each row is a decreasing power of an element from x."
      ]
    },
    {
      "cell_type": "code",
      "execution_count": null,
      "id": "6929f167-fa87-45ca-8254-cd982d6befd8",
      "metadata": {
        "id": "6929f167-fa87-45ca-8254-cd982d6befd8",
        "outputId": "b496fae1-7a03-4509-d63b-c6b5e929b829"
      },
      "outputs": [
        {
          "data": {
            "text/plain": [
              "array([[0. , 1. ],\n",
              "       [0.5, 1. ],\n",
              "       [1. , 1. ],\n",
              "       [1.5, 1. ],\n",
              "       [2. , 1. ]])"
            ]
          },
          "execution_count": 101,
          "metadata": {},
          "output_type": "execute_result"
        }
      ],
      "source": [
        "#np.linspace(0, 2, 5) → [0. , 0.5, 1. , 1.5, 2. ]\n",
        "# N = 2 → two columns: x**1, x**0\n",
        "np.vander(np.linspace(0, 2, 5), 2)"
      ]
    },
    {
      "cell_type": "code",
      "execution_count": null,
      "id": "a6582c3f-8fad-4012-a3bf-234e77d212fc",
      "metadata": {
        "id": "a6582c3f-8fad-4012-a3bf-234e77d212fc",
        "outputId": "d94cf0e6-13bf-42d2-84b8-eb782183b739"
      },
      "outputs": [
        {
          "data": {
            "text/plain": [
              "array([[1, 1],\n",
              "       [2, 1],\n",
              "       [3, 1],\n",
              "       [4, 1]])"
            ]
          },
          "execution_count": 109,
          "metadata": {},
          "output_type": "execute_result"
        }
      ],
      "source": [
        "np.vander([1, 2, 3, 4], 2) # creates 4X2 matrix\n",
        "#Input: [1, 2, 3, 4]\n",
        "# No of Columns 2"
      ]
    },
    {
      "cell_type": "markdown",
      "id": "3380dc83-0bf8-47ab-84d5-484323e3d3f2",
      "metadata": {
        "id": "3380dc83-0bf8-47ab-84d5-484323e3d3f2"
      },
      "source": [
        "| x | x¹ | x⁰ |\n",
        "| - | -- | -- |\n",
        "| 1 | 1  | 1  |\n",
        "| 2 | 2  | 1  |\n",
        "| 3 | 3  | 1  |\n",
        "| 4 | 4  | 1  |\n"
      ]
    },
    {
      "cell_type": "code",
      "execution_count": null,
      "id": "17165627-3829-44c8-a3be-460cb8b4a694",
      "metadata": {
        "id": "17165627-3829-44c8-a3be-460cb8b4a694",
        "outputId": "d9da0b64-298c-4b73-e248-e1626bd968a1"
      },
      "outputs": [
        {
          "data": {
            "text/plain": [
              "array([[ 1,  1,  1,  1],\n",
              "       [ 8,  4,  2,  1],\n",
              "       [27,  9,  3,  1],\n",
              "       [64, 16,  4,  1]])"
            ]
          },
          "execution_count": 113,
          "metadata": {},
          "output_type": "execute_result"
        }
      ],
      "source": [
        "np.vander((1, 2, 3, 4), 4) # creates 4X4 matrix\n",
        "#N = 4 → columns: x**3, x**2, x**1, x**0\n",
        "#Each row is [x**3, x**2, x, 1] for each x in the input."
      ]
    },
    {
      "cell_type": "markdown",
      "id": "6add36d4-3273-4bd0-b9dd-c77ecb9e7434",
      "metadata": {
        "id": "6add36d4-3273-4bd0-b9dd-c77ecb9e7434"
      },
      "source": [
        "| x | x³ | x² | x¹ | x⁰ |\n",
        "| - | -- | -- | -- | -- |\n",
        "| 1 | 1  | 1  | 1  | 1  |\n",
        "| 2 | 8  | 4  | 2  | 1  |\n",
        "| 3 | 27 | 9  | 3  | 1  |\n",
        "| 4 | 64 | 16 | 4  | 1  |"
      ]
    },
    {
      "cell_type": "markdown",
      "id": "5f228f88-e2bf-4ace-96a8-1eee65823d8a",
      "metadata": {
        "id": "5f228f88-e2bf-4ace-96a8-1eee65823d8a"
      },
      "source": [
        "| Code                                 | Shape    | Meaning                                           |\n",
        "| ------------------------------------ | -------- | ------------------------------------------------- |\n",
        "| `np.vander(np.linspace(0, 2, 5), 2)` | `(5, 2)` | 2-column Vandermonde matrix of `[0, 0.5, ..., 2]` |\n",
        "| `np.vander([1, 2, 3, 4], 2)`         | `(4, 2)` | Powers: `[x, 1]` for each x                       |\n",
        "| `np.vander((1, 2, 3, 4), 4)`         | `(4, 4)` | Powers: `[x**3, x**2, x, 1]`                      |\n"
      ]
    },
    {
      "cell_type": "code",
      "execution_count": null,
      "id": "49abbc3f-ba58-470f-9148-79992ae3ffde",
      "metadata": {
        "id": "49abbc3f-ba58-470f-9148-79992ae3ffde",
        "outputId": "465d0ae9-9a61-4b9f-b5f2-c738ce4ab7bc"
      },
      "outputs": [
        {
          "data": {
            "text/plain": [
              "array([[ 1,  1,  1],\n",
              "       [ 4,  2,  1],\n",
              "       [ 9,  3,  1],\n",
              "       [16,  4,  1]])"
            ]
          },
          "execution_count": 187,
          "metadata": {},
          "output_type": "execute_result"
        }
      ],
      "source": [
        "np.vander((1,2,3,4),3) # Each row is [x**2, x, 1] for each x in the input."
      ]
    },
    {
      "cell_type": "markdown",
      "id": "9fda96f6-f27a-4c06-a1ad-7347bedaf52d",
      "metadata": {
        "id": "9fda96f6-f27a-4c06-a1ad-7347bedaf52d"
      },
      "source": [
        "## 11. ones() method in numpy"
      ]
    },
    {
      "cell_type": "code",
      "execution_count": null,
      "id": "4c407f08-3bd0-4d7f-88fa-a18bb5367273",
      "metadata": {
        "id": "4c407f08-3bd0-4d7f-88fa-a18bb5367273",
        "outputId": "f2b35ca2-3abb-4acd-b580-7a1e59a847e5"
      },
      "outputs": [
        {
          "name": "stdout",
          "output_type": "stream",
          "text": [
            "1D Array of Ones: [1. 1. 1. 1. 1.]\n"
          ]
        }
      ],
      "source": [
        "#Creating a 1D array of size 5 filled with ones\n",
        "arr1 = np.ones(5)  # shape=5 (1D), default dtype=float\n",
        "print(\"1D Array of Ones:\", arr1)"
      ]
    },
    {
      "cell_type": "code",
      "execution_count": null,
      "id": "798b6974-cdca-4d66-8619-60b049d7e487",
      "metadata": {
        "id": "798b6974-cdca-4d66-8619-60b049d7e487",
        "outputId": "9ccfc984-17eb-4f78-cb39-c8a175170fc8"
      },
      "outputs": [
        {
          "name": "stdout",
          "output_type": "stream",
          "text": [
            "\n",
            "2D Array (3x4) of Ones:\n",
            " [[1. 1. 1. 1.]\n",
            " [1. 1. 1. 1.]\n",
            " [1. 1. 1. 1.]]\n"
          ]
        }
      ],
      "source": [
        "#Creating a 2D array (3 rows, 4 columns) filled with ones\n",
        "arr2 = np.ones((3, 4))  # shape=(3,4) means 3x4 matrix\n",
        "print(\"\\n2D Array (3x4) of Ones:\\n\", arr2)"
      ]
    },
    {
      "cell_type": "code",
      "execution_count": null,
      "id": "21c32a59-ff38-46bd-b957-5272f6b9fd73",
      "metadata": {
        "id": "21c32a59-ff38-46bd-b957-5272f6b9fd73",
        "outputId": "8f922932-2fa7-4f0b-f76a-e76e2e226bc8"
      },
      "outputs": [
        {
          "name": "stdout",
          "output_type": "stream",
          "text": [
            "\n",
            "2D Integer Array (2x3) of Ones:\n",
            " [[1 1 1]\n",
            " [1 1 1]]\n"
          ]
        }
      ],
      "source": [
        "#Specifying data type as integer\n",
        "arr3 = np.ones((2, 3), dtype=int)  # shape=(2,3), dtype=int\n",
        "print(\"\\n2D Integer Array (2x3) of Ones:\\n\", arr3)"
      ]
    },
    {
      "cell_type": "code",
      "execution_count": null,
      "id": "9383fc5e-61fd-4d85-9f0b-6323db935b72",
      "metadata": {
        "id": "9383fc5e-61fd-4d85-9f0b-6323db935b72",
        "outputId": "dee0e870-c853-4623-ae77-6dd0f264da68"
      },
      "outputs": [
        {
          "name": "stdout",
          "output_type": "stream",
          "text": [
            "\n",
            "3D Array of Ones:\n",
            " [[[1. 1. 1.]\n",
            "  [1. 1. 1.]]\n",
            "\n",
            " [[1. 1. 1.]\n",
            "  [1. 1. 1.]]]\n"
          ]
        }
      ],
      "source": [
        "#Creating a 3D array filled with ones\n",
        "arr4 = np.ones((2, 2, 3))  # shape=(2,2,3) means 3D array (2 blocks, 2 rows, 3 columns)\n",
        "print(\"\\n3D Array of Ones:\\n\", arr4)"
      ]
    },
    {
      "cell_type": "code",
      "execution_count": null,
      "id": "4623c475-2917-4046-b0ad-cd672e59b069",
      "metadata": {
        "id": "4623c475-2917-4046-b0ad-cd672e59b069",
        "outputId": "401cd280-4e1a-4178-e7ca-6ecd297b6616"
      },
      "outputs": [
        {
          "name": "stdout",
          "output_type": "stream",
          "text": [
            "\n",
            "Boolean Array (3x3) of Ones (True values):\n",
            " [[ True  True  True]\n",
            " [ True  True  True]\n",
            " [ True  True  True]]\n"
          ]
        }
      ],
      "source": [
        "#Creating a boolean array (True represents 1)\n",
        "arr5 = np.ones((3, 3), dtype=bool)\n",
        "print(\"\\nBoolean Array (3x3) of Ones (True values):\\n\", arr5)"
      ]
    },
    {
      "cell_type": "markdown",
      "id": "e9668fc9-58b0-45f8-a505-8dad4273f8f9",
      "metadata": {
        "id": "e9668fc9-58b0-45f8-a505-8dad4273f8f9"
      },
      "source": [
        "## 12. zeros() method in numpy"
      ]
    },
    {
      "cell_type": "code",
      "execution_count": null,
      "id": "0bae3663-bf99-460c-bee2-138d3b703132",
      "metadata": {
        "id": "0bae3663-bf99-460c-bee2-138d3b703132",
        "outputId": "74e3d462-1b4a-43eb-e704-30ef0abe3515"
      },
      "outputs": [
        {
          "name": "stdout",
          "output_type": "stream",
          "text": [
            "1D Array of Zeros: [0. 0. 0. 0. 0.]\n"
          ]
        }
      ],
      "source": [
        "#Creating a 1D array of size 5 filled with zeros\n",
        "arr1 = np.zeros(5)  # shape=5 (1D), default dtype=float\n",
        "print(\"1D Array of Zeros:\", arr1)"
      ]
    },
    {
      "cell_type": "code",
      "execution_count": null,
      "id": "62bed120-011d-4ae8-9483-30feb803ff74",
      "metadata": {
        "id": "62bed120-011d-4ae8-9483-30feb803ff74",
        "outputId": "d46f9d0e-0c7e-4e5b-95d9-56f7e8788f65"
      },
      "outputs": [
        {
          "name": "stdout",
          "output_type": "stream",
          "text": [
            "\n",
            "2D Array (3x4) of Zeros:\n",
            " [[0. 0. 0. 0.]\n",
            " [0. 0. 0. 0.]\n",
            " [0. 0. 0. 0.]]\n"
          ]
        }
      ],
      "source": [
        "#Creating a 2D array (3 rows, 4 columns) filled with zeros\n",
        "arr2 = np.zeros((3, 4))  # shape=(3,4) means 3x4 matrix\n",
        "print(\"\\n2D Array (3x4) of Zeros:\\n\", arr2)"
      ]
    },
    {
      "cell_type": "code",
      "execution_count": null,
      "id": "e0d8e9a4-ef34-405b-8847-f65d05c5b853",
      "metadata": {
        "id": "e0d8e9a4-ef34-405b-8847-f65d05c5b853",
        "outputId": "a4c8b38d-56c8-4e3b-fb3e-63f747127230"
      },
      "outputs": [
        {
          "name": "stdout",
          "output_type": "stream",
          "text": [
            "\n",
            "2D Integer Array (2x3) of Zeros:\n",
            " [[0 0 0]\n",
            " [0 0 0]]\n"
          ]
        }
      ],
      "source": [
        "#Specifying data type as integer\n",
        "arr3 = np.zeros((2, 3), dtype=int)  # shape=(2,3), dtype=int\n",
        "print(\"\\n2D Integer Array (2x3) of Zeros:\\n\", arr3)"
      ]
    },
    {
      "cell_type": "code",
      "execution_count": null,
      "id": "8e22edd8-3e53-47e8-bbc0-25095bc3786b",
      "metadata": {
        "id": "8e22edd8-3e53-47e8-bbc0-25095bc3786b",
        "outputId": "9d2d1b93-76fb-482b-897a-67a6c8668b4f"
      },
      "outputs": [
        {
          "name": "stdout",
          "output_type": "stream",
          "text": [
            "\n",
            "3D Array of Zeros:\n",
            " [[[0. 0. 0.]\n",
            "  [0. 0. 0.]]\n",
            "\n",
            " [[0. 0. 0.]\n",
            "  [0. 0. 0.]]]\n"
          ]
        }
      ],
      "source": [
        "#Creating a 3D array filled with zeros\n",
        "arr4 = np.zeros((2, 2, 3))  # shape=(2,2,3) means 3D array (2 blocks, 2 rows, 3 columns)\n",
        "print(\"\\n3D Array of Zeros:\\n\", arr4)"
      ]
    },
    {
      "cell_type": "code",
      "execution_count": null,
      "id": "0762bdfb-4941-425b-b3ff-39785b0c77e5",
      "metadata": {
        "id": "0762bdfb-4941-425b-b3ff-39785b0c77e5",
        "outputId": "7bf47192-95de-4908-9a59-fc8c0aa8ddf6"
      },
      "outputs": [
        {
          "name": "stdout",
          "output_type": "stream",
          "text": [
            "\n",
            "Boolean Array (3x3) of Zeros (False values):\n",
            " [[False False False]\n",
            " [False False False]\n",
            " [False False False]]\n"
          ]
        }
      ],
      "source": [
        "#Creating a boolean array (False represents 0)\n",
        "arr5 = np.zeros((3, 3), dtype=bool)\n",
        "print(\"\\nBoolean Array (3x3) of Zeros (False values):\\n\", arr5)"
      ]
    },
    {
      "cell_type": "markdown",
      "id": "e7dd86dc-a950-40f8-87e9-7ad593b33465",
      "metadata": {
        "id": "e7dd86dc-a950-40f8-87e9-7ad593b33465"
      },
      "source": [
        "## 13. indices() method in numpy"
      ]
    },
    {
      "cell_type": "code",
      "execution_count": null,
      "id": "7b4984af-b10d-4bed-bbd0-636cbcf28d0e",
      "metadata": {
        "id": "7b4984af-b10d-4bed-bbd0-636cbcf28d0e",
        "outputId": "261ec7c8-f754-4f9a-b7f9-dde3bcfdbff2"
      },
      "outputs": [
        {
          "name": "stdout",
          "output_type": "stream",
          "text": [
            "Indices for a 3x3 grid:\n",
            " [[[0 0 0]\n",
            "  [1 1 1]\n",
            "  [2 2 2]]\n",
            "\n",
            " [[0 1 2]\n",
            "  [0 1 2]\n",
            "  [0 1 2]]]\n"
          ]
        }
      ],
      "source": [
        "#Creating indices for a 2D array of shape (3, 3)\n",
        "indices_2d = np.indices((3, 3))  # shape=(3,3) means 3 rows and 3 columns\n",
        "print(\"Indices for a 3x3 grid:\\n\", indices_2d)"
      ]
    },
    {
      "cell_type": "code",
      "execution_count": null,
      "id": "8840d0a6-d69d-48c0-bd17-6a9eba9f5e23",
      "metadata": {
        "id": "8840d0a6-d69d-48c0-bd17-6a9eba9f5e23"
      },
      "outputs": [],
      "source": [
        "# indices_2d is actually a 3D array of shape (2, 3, 3):\n",
        "# - The first 3x3 array contains row indices\n",
        "# - The second 3x3 array contains column indices"
      ]
    },
    {
      "cell_type": "code",
      "execution_count": null,
      "id": "59258d18-c1f4-45d9-8bae-79893738e231",
      "metadata": {
        "id": "59258d18-c1f4-45d9-8bae-79893738e231",
        "outputId": "469d7f16-d260-4f80-9d96-50413dce21ef"
      },
      "outputs": [
        {
          "name": "stdout",
          "output_type": "stream",
          "text": [
            "\n",
            "Row indices (first array):\n",
            " [[0 0 0]\n",
            " [1 1 1]\n",
            " [2 2 2]]\n"
          ]
        }
      ],
      "source": [
        "print(\"\\nRow indices (first array):\\n\", indices_2d[0])  # Row positions"
      ]
    },
    {
      "cell_type": "code",
      "execution_count": null,
      "id": "19497f1c-66d8-4f06-ba86-b8dcddeb3c12",
      "metadata": {
        "id": "19497f1c-66d8-4f06-ba86-b8dcddeb3c12",
        "outputId": "9531226e-7fe1-475c-a675-1b5ca39e33d4"
      },
      "outputs": [
        {
          "name": "stdout",
          "output_type": "stream",
          "text": [
            "\n",
            "Column indices (second array):\n",
            " [[0 1 2]\n",
            " [0 1 2]\n",
            " [0 1 2]]\n"
          ]
        }
      ],
      "source": [
        "print(\"\\nColumn indices (second array):\\n\", indices_2d[1])  # Column positions"
      ]
    },
    {
      "cell_type": "code",
      "execution_count": null,
      "id": "20a617f1-3bb0-4122-ad39-9e3645213e77",
      "metadata": {
        "id": "20a617f1-3bb0-4122-ad39-9e3645213e77"
      },
      "outputs": [],
      "source": [
        "#Creating indices for a 2x4 array\n",
        "indices_2x4 = np.indices((2, 4))  # shape=(2,4) means 2 rows, 4 columns"
      ]
    },
    {
      "cell_type": "code",
      "execution_count": null,
      "id": "5763e6e8-4299-4ed2-88e1-14c0d0fad7ac",
      "metadata": {
        "id": "5763e6e8-4299-4ed2-88e1-14c0d0fad7ac",
        "outputId": "c622eb4e-5920-4f8f-ec85-6600908b6f0a"
      },
      "outputs": [
        {
          "name": "stdout",
          "output_type": "stream",
          "text": [
            "\n",
            "Indices for a 2x4 grid:\n",
            " [[[0 0 0 0]\n",
            "  [1 1 1 1]]\n",
            "\n",
            " [[0 1 2 3]\n",
            "  [0 1 2 3]]]\n"
          ]
        }
      ],
      "source": [
        "print(\"\\nIndices for a 2x4 grid:\\n\", indices_2x4)"
      ]
    },
    {
      "cell_type": "code",
      "execution_count": null,
      "id": "9131525b-1a8e-48a3-bc71-379565bdf7f8",
      "metadata": {
        "id": "9131525b-1a8e-48a3-bc71-379565bdf7f8",
        "outputId": "12ff7a99-4c9f-444e-ae0b-ee790df423e3"
      },
      "outputs": [
        {
          "name": "stdout",
          "output_type": "stream",
          "text": [
            "\n",
            "Row indices:\n",
            " [[0 0 0 0]\n",
            " [1 1 1 1]]\n"
          ]
        }
      ],
      "source": [
        "print(\"\\nRow indices:\\n\", indices_2x4[0])"
      ]
    },
    {
      "cell_type": "code",
      "execution_count": null,
      "id": "113ae339-a0d0-4a53-905a-a3eb26de7183",
      "metadata": {
        "id": "113ae339-a0d0-4a53-905a-a3eb26de7183",
        "outputId": "09452766-2e53-4cf0-f999-ace9ab59b471"
      },
      "outputs": [
        {
          "name": "stdout",
          "output_type": "stream",
          "text": [
            "\n",
            "Column indices:\n",
            " [[0 1 2 3]\n",
            " [0 1 2 3]]\n"
          ]
        }
      ],
      "source": [
        "print(\"\\nColumn indices:\\n\", indices_2x4[1])"
      ]
    },
    {
      "cell_type": "markdown",
      "id": "372e7f9e-616b-4c88-90c9-a3221b268532",
      "metadata": {
        "id": "372e7f9e-616b-4c88-90c9-a3221b268532"
      },
      "source": [
        "## 14. random() method from random under numpy module"
      ]
    },
    {
      "cell_type": "code",
      "execution_count": null,
      "id": "1e5a21ba-cdb4-48ed-b435-7881f13d9282",
      "metadata": {
        "id": "1e5a21ba-cdb4-48ed-b435-7881f13d9282",
        "outputId": "6105bd75-a369-4822-d82d-0f8f704d7dc2"
      },
      "outputs": [
        {
          "name": "stdout",
          "output_type": "stream",
          "text": [
            "Random Float (0 to 1): 0.5670702501527762\n"
          ]
        }
      ],
      "source": [
        "#Generate a single random float between 0 and 1\n",
        "random_float = np.random.random()\n",
        "print(\"Random Float (0 to 1):\", random_float)"
      ]
    },
    {
      "cell_type": "code",
      "execution_count": null,
      "id": "dd9b8f54-06d4-42a7-979c-1689727b1c95",
      "metadata": {
        "id": "dd9b8f54-06d4-42a7-979c-1689727b1c95",
        "outputId": "c67f6a0a-f287-4fa0-c912-35a7af36c28a"
      },
      "outputs": [
        {
          "name": "stdout",
          "output_type": "stream",
          "text": [
            "\n",
            "1D Array of Random Floats: [0.88572119 0.47792031 0.22237558 0.23975361 0.16531422]\n"
          ]
        }
      ],
      "source": [
        "#Generate a 1D array of 5 random floats between 0 and 1\n",
        "random_array = np.random.random(5)\n",
        "print(\"\\n1D Array of Random Floats:\", random_array)"
      ]
    },
    {
      "cell_type": "code",
      "execution_count": null,
      "id": "67c92515-2744-4069-ba6d-7c4e96edb8c0",
      "metadata": {
        "id": "67c92515-2744-4069-ba6d-7c4e96edb8c0",
        "outputId": "ba441e7e-c8a6-4c78-e8c0-ade09a879231"
      },
      "outputs": [
        {
          "name": "stdout",
          "output_type": "stream",
          "text": [
            "\n",
            "2D Array (3x3) of Random Floats:\n",
            " [[0.31060183 0.46810795 0.83945988]\n",
            " [0.15405996 0.64354632 0.30775679]\n",
            " [0.75405591 0.26768212 0.312058  ]]\n"
          ]
        }
      ],
      "source": [
        "#Generate a 2D array (3x3) of random floats between 0 and 1\n",
        "random_matrix = np.random.random((3, 3))\n",
        "print(\"\\n2D Array (3x3) of Random Floats:\\n\", random_matrix)"
      ]
    },
    {
      "cell_type": "code",
      "execution_count": null,
      "id": "91adb3df-b523-4cec-9f71-90dda6363bb2",
      "metadata": {
        "id": "91adb3df-b523-4cec-9f71-90dda6363bb2",
        "outputId": "fbeff17a-bd0c-45ce-9c9e-c0b6bc1a61fc"
      },
      "outputs": [
        {
          "name": "stdout",
          "output_type": "stream",
          "text": [
            "\n",
            "Random Integers between 10 and 50: [18 44 21 32 40]\n"
          ]
        }
      ],
      "source": [
        "#Generate random integers between 10 and 50 (5 numbers)\n",
        "random_integers = np.random.randint(10, 50, size=5)\n",
        "print(\"\\nRandom Integers between 10 and 50:\", random_integers)"
      ]
    },
    {
      "cell_type": "code",
      "execution_count": null,
      "id": "da3b3062-c700-4174-8b2d-b265698538a0",
      "metadata": {
        "id": "da3b3062-c700-4174-8b2d-b265698538a0",
        "outputId": "9f9ccf27-454d-4f02-c28f-c54939eed02d"
      },
      "outputs": [
        {
          "name": "stdout",
          "output_type": "stream",
          "text": [
            "\n",
            "Random Numbers from Normal Distribution: [ 1.30968109  0.00161132 -1.0180968   0.78022295]\n"
          ]
        }
      ],
      "source": [
        "#Generate random numbers from a standard normal distribution (mean=0, std=1)\n",
        "random_normal = np.random.randn(4)\n",
        "print(\"\\nRandom Numbers from Normal Distribution:\", random_normal)"
      ]
    },
    {
      "cell_type": "code",
      "execution_count": null,
      "id": "0258e153-c53d-4ec5-9311-8c365179183f",
      "metadata": {
        "id": "0258e153-c53d-4ec5-9311-8c365179183f",
        "outputId": "48875b75-882d-49fb-bd50-004e87154d1a"
      },
      "outputs": [
        {
          "name": "stdout",
          "output_type": "stream",
          "text": [
            "\n",
            "Random Numbers with Seed=42 (Reproducible): [0.37454012 0.95071431 0.73199394]\n"
          ]
        }
      ],
      "source": [
        "#Reproducibility - Set a random seed\n",
        "np.random.seed(42)\n",
        "print(\"\\nRandom Numbers with Seed=42 (Reproducible):\", np.random.random(3)) #Fix random number generator seed for reproducible results"
      ]
    },
    {
      "cell_type": "markdown",
      "id": "bdbb3740-e57a-4060-b23a-74db94f350f6",
      "metadata": {
        "id": "bdbb3740-e57a-4060-b23a-74db94f350f6"
      },
      "source": [
        "## 15. Indexing and Slicing"
      ]
    },
    {
      "cell_type": "code",
      "execution_count": null,
      "id": "f891f3ab-d4de-47ad-bb45-9f1fa7ff82a7",
      "metadata": {
        "id": "f891f3ab-d4de-47ad-bb45-9f1fa7ff82a7",
        "outputId": "c203e952-7285-4e6e-d6a7-637f18242dd7"
      },
      "outputs": [
        {
          "name": "stdout",
          "output_type": "stream",
          "text": [
            "1D Array: [10 20 30 40 50 60]\n"
          ]
        }
      ],
      "source": [
        "#Create a 1D array\n",
        "arr1d = np.array([10, 20, 30, 40, 50, 60])\n",
        "print(\"1D Array:\", arr1d)"
      ]
    },
    {
      "cell_type": "code",
      "execution_count": null,
      "id": "3a11d0bf-c21a-4af9-acc0-c7833f950d80",
      "metadata": {
        "id": "3a11d0bf-c21a-4af9-acc0-c7833f950d80",
        "outputId": "66696ee6-b12d-4805-b9d4-6eeee1f737cf"
      },
      "outputs": [
        {
          "name": "stdout",
          "output_type": "stream",
          "text": [
            "\n",
            "Indexing on 1D Array:\n",
            "Element at index 0: 10\n",
            "Element at index -1: 60\n"
          ]
        }
      ],
      "source": [
        "print(\"\\nIndexing on 1D Array:\")\n",
        "print(\"Element at index 0:\", arr1d[0])   # First element\n",
        "print(\"Element at index -1:\", arr1d[-1]) # Last element (negative index)"
      ]
    },
    {
      "cell_type": "code",
      "execution_count": null,
      "id": "8079de53-4784-48e2-a2a5-445e8229652f",
      "metadata": {
        "id": "8079de53-4784-48e2-a2a5-445e8229652f",
        "outputId": "b7c6980e-fcaa-4990-e428-04eb8d8552fd"
      },
      "outputs": [
        {
          "name": "stdout",
          "output_type": "stream",
          "text": [
            "\n",
            "Slicing on 1D Array:\n",
            "Elements from index 1 to 4: [20 30 40 50]\n",
            "Every second element: [10 30 50]\n",
            "Reverse array: [60 50 40 30 20 10]\n"
          ]
        }
      ],
      "source": [
        "print(\"\\nSlicing on 1D Array:\")\n",
        "print(\"Elements from index 1 to 4:\", arr1d[1:5])  # From index 1 up to 4\n",
        "print(\"Every second element:\", arr1d[::2])        # Step of 2\n",
        "print(\"Reverse array:\", arr1d[::-1])"
      ]
    },
    {
      "cell_type": "code",
      "execution_count": null,
      "id": "bab7e97f-5ff0-4d66-8396-ab482a4d5422",
      "metadata": {
        "id": "bab7e97f-5ff0-4d66-8396-ab482a4d5422",
        "outputId": "f3fba7ec-826c-40d5-cf5e-9ee2b7c14185"
      },
      "outputs": [
        {
          "name": "stdout",
          "output_type": "stream",
          "text": [
            "\n",
            "2D Array:\n",
            " [[ 1  2  3  4]\n",
            " [ 5  6  7  8]\n",
            " [ 9 10 11 12]]\n"
          ]
        }
      ],
      "source": [
        "#Create a 2D array (3x4 matrix)\n",
        "arr2d = np.array([[1, 2, 3, 4],\n",
        "                  [5, 6, 7, 8],\n",
        "                  [9, 10, 11, 12]])\n",
        "print(\"\\n2D Array:\\n\", arr2d)"
      ]
    },
    {
      "cell_type": "code",
      "execution_count": null,
      "id": "7538da42-e58e-4018-88e6-1bf69398abc6",
      "metadata": {
        "id": "7538da42-e58e-4018-88e6-1bf69398abc6",
        "outputId": "80192a46-76bf-437a-e485-d1c78751a0cc"
      },
      "outputs": [
        {
          "name": "stdout",
          "output_type": "stream",
          "text": [
            "\n",
            "Indexing on 2D Array:\n",
            "Element at row 1, column 2: 7\n",
            "First row: [1 2 3 4]\n",
            "First column: [1 5 9]\n"
          ]
        }
      ],
      "source": [
        "print(\"\\nIndexing on 2D Array:\")\n",
        "print(\"Element at row 1, column 2:\", arr2d[1, 2])   # 7 (row=1, col=2)\n",
        "print(\"First row:\", arr2d[0])                      # Whole first row\n",
        "print(\"First column:\", arr2d[:, 0])"
      ]
    },
    {
      "cell_type": "code",
      "execution_count": null,
      "id": "a29d8aeb-637a-4c37-92e5-c7bebcb8c0a6",
      "metadata": {
        "id": "a29d8aeb-637a-4c37-92e5-c7bebcb8c0a6",
        "outputId": "d635b0a1-57a7-4c38-ccb0-34fbff157d3f"
      },
      "outputs": [
        {
          "name": "stdout",
          "output_type": "stream",
          "text": [
            "\n",
            "Slicing on 2D Array:\n",
            "Subarray (first 2 rows, columns 1 to 3):\n",
            " [[2 3]\n",
            " [6 7]]\n",
            "Last two rows:\n",
            " [[ 5  6  7  8]\n",
            " [ 9 10 11 12]]\n",
            "Every second column:\n",
            " [[ 1  3]\n",
            " [ 5  7]\n",
            " [ 9 11]]\n"
          ]
        }
      ],
      "source": [
        "print(\"\\nSlicing on 2D Array:\")\n",
        "print(\"Subarray (first 2 rows, columns 1 to 3):\\n\", arr2d[0:2, 1:3])\n",
        "print(\"Last two rows:\\n\", arr2d[-2:, :])           # Last 2 rows\n",
        "print(\"Every second column:\\n\", arr2d[:, ::2])     # All rows, step of 2 columns"
      ]
    },
    {
      "cell_type": "code",
      "execution_count": null,
      "id": "325e6bd1-8b2a-4268-9cce-ca416e899682",
      "metadata": {
        "id": "325e6bd1-8b2a-4268-9cce-ca416e899682"
      },
      "outputs": [],
      "source": []
    }
  ],
  "metadata": {
    "kernelspec": {
      "display_name": "Python 3 (ipykernel)",
      "language": "python",
      "name": "python3"
    },
    "language_info": {
      "codemirror_mode": {
        "name": "ipython",
        "version": 3
      },
      "file_extension": ".py",
      "mimetype": "text/x-python",
      "name": "python",
      "nbconvert_exporter": "python",
      "pygments_lexer": "ipython3",
      "version": "3.12.7"
    },
    "colab": {
      "provenance": [],
      "include_colab_link": true
    }
  },
  "nbformat": 4,
  "nbformat_minor": 5
}