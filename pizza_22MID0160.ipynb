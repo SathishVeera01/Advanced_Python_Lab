{
 "cells": [
  {
   "cell_type": "code",
   "execution_count": 1,
   "id": "e16cf186-b690-4599-a608-262bf5da5dfb",
   "metadata": {},
   "outputs": [
    {
     "name": "stdout",
     "output_type": "stream",
     "text": [
      "\n",
      " Making a 16-inch pizza with the following toppings\n",
      "-('pepperoni',)\n",
      "\n",
      " Making a 22-inch pizza with the following toppings\n",
      "-('pepperoni', 'mushrooms', 'green pepper', 'extra cheese')\n",
      "-('pepperoni', 'mushrooms', 'green pepper', 'extra cheese')\n",
      "-('pepperoni', 'mushrooms', 'green pepper', 'extra cheese')\n",
      "-('pepperoni', 'mushrooms', 'green pepper', 'extra cheese')\n"
     ]
    }
   ],
   "source": [
    "def make_pizza(size, *toppings):\n",
    "    print(f\"\\n Making a {size}-inch pizza with the following toppings\")\n",
    "    for topping in toppings:\n",
    "        print(f\"-{toppings}\")\n",
    "\n",
    "make_pizza(16,\"pepperoni\")\n",
    "make_pizza(22,\"pepperoni\",\"mushrooms\", \"green pepper\",\"extra cheese\")"
   ]
  },
  {
   "cell_type": "code",
   "execution_count": null,
   "id": "7570a83f-f05e-40be-a988-47ab46c33d39",
   "metadata": {},
   "outputs": [],
   "source": []
  },
  {
   "cell_type": "code",
   "execution_count": null,
   "id": "b93caba9-8024-4fdd-8254-a0f4bfc51304",
   "metadata": {},
   "outputs": [],
   "source": []
  }
 ],
 "metadata": {
  "kernelspec": {
   "display_name": "Python 3 (ipykernel)",
   "language": "python",
   "name": "python3"
  },
  "language_info": {
   "codemirror_mode": {
    "name": "ipython",
    "version": 3
   },
   "file_extension": ".py",
   "mimetype": "text/x-python",
   "name": "python",
   "nbconvert_exporter": "python",
   "pygments_lexer": "ipython3",
   "version": "3.13.3"
  }
 },
 "nbformat": 4,
 "nbformat_minor": 5
}
