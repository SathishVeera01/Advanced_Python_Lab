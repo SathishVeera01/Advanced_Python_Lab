{
 "cells": [
  {
   "cell_type": "markdown",
   "id": "f6d15016-0089-4eb7-9af9-dc3c303c7596",
   "metadata": {},
   "source": [
    "# Python Lab-3"
   ]
  },
  {
   "cell_type": "markdown",
   "id": "7d3f20ed-f47c-40a9-a875-4c19eaac9b84",
   "metadata": {},
   "source": [
    "# Traveling Agency using List Operations\n"
   ]
  },
  {
   "cell_type": "code",
   "execution_count": 1,
   "id": "d7bf6c5f-84d9-4ec6-b982-445f8b923f8c",
   "metadata": {},
   "outputs": [
    {
     "name": "stdin",
     "output_type": "stream",
     "text": [
      "Enter the number of favourite places:  4\n",
      "Enter your favourite place 1:  Bali\n",
      "Enter your favourite place 2:  Paris\n",
      "Enter your favourite place 3:  Ladakh\n",
      "Enter your favourite place 4:  Kerala\n"
     ]
    },
    {
     "name": "stdout",
     "output_type": "stream",
     "text": [
      "['Bali', 'Paris', 'Ladakh', 'Kerala']\n"
     ]
    }
   ],
   "source": [
    "places = []\n",
    "num = int(input(\"Enter the number of favourite places: \"))\n",
    "\n",
    "for i in range(num):\n",
    "    place = input(f'Enter your favourite place {i+1}: ')\n",
    "    places.append(place)\n",
    "\n",
    "print(places)"
   ]
  },
  {
   "cell_type": "markdown",
   "id": "50d6c42e-77d2-48de-9e24-16d18adbfd4d",
   "metadata": {},
   "source": [
    "# Displaying Favourite places"
   ]
  },
  {
   "cell_type": "code",
   "execution_count": 2,
   "id": "75e36c42-3f4b-4130-a22d-64e65d9f8368",
   "metadata": {},
   "outputs": [
    {
     "name": "stdout",
     "output_type": "stream",
     "text": [
      "Your Favourite Places:\n",
      "Bali\n",
      "Paris\n",
      "Ladakh\n",
      "Kerala\n"
     ]
    }
   ],
   "source": [
    "print(\"Your Favourite Places:\")\n",
    "for i in range(len(places)):\n",
    "    print(places[i])"
   ]
  },
  {
   "cell_type": "markdown",
   "id": "294cfd0c-6eb0-4039-82fd-9d83ac10e074",
   "metadata": {},
   "source": [
    "# Adding new places"
   ]
  },
  {
   "cell_type": "code",
   "execution_count": 3,
   "id": "c886e0aa-7059-436e-99a8-caaf60a08221",
   "metadata": {},
   "outputs": [
    {
     "name": "stdin",
     "output_type": "stream",
     "text": [
      "Enter new place:  Vellore Fort\n"
     ]
    }
   ],
   "source": [
    "place = input(\"Enter new place: \")\n",
    "places.append(place)"
   ]
  },
  {
   "cell_type": "markdown",
   "id": "872b4162-045c-4b77-9d88-6475883febe6",
   "metadata": {},
   "source": [
    "# Insert your favourite place at particular position"
   ]
  },
  {
   "cell_type": "code",
   "execution_count": 4,
   "id": "4f62d771-73ff-4c8c-bcf1-ad463c56d4d4",
   "metadata": {},
   "outputs": [
    {
     "name": "stdin",
     "output_type": "stream",
     "text": [
      "Enter your most favourite place:  Golden Temple\n"
     ]
    }
   ],
   "source": [
    "place = input(\"Enter your most favourite place: \")\n",
    "places.insert(0,place)"
   ]
  },
  {
   "cell_type": "markdown",
   "id": "e9c44c47-b1cb-46ea-86dc-95674e51a64b",
   "metadata": {},
   "source": [
    "# Displaying Favourite places"
   ]
  },
  {
   "cell_type": "code",
   "execution_count": 5,
   "id": "56bc2ec2-77bd-4afe-b03a-b73a87adf883",
   "metadata": {},
   "outputs": [
    {
     "name": "stdout",
     "output_type": "stream",
     "text": [
      "Your Favourite Places:\n",
      "Golden Temple\n",
      "Bali\n",
      "Paris\n",
      "Ladakh\n",
      "Kerala\n",
      "Vellore Fort\n"
     ]
    }
   ],
   "source": [
    "print(\"Your Favourite Places:\")\n",
    "for i in range(len(places)):\n",
    "    print(places[i])"
   ]
  },
  {
   "cell_type": "markdown",
   "id": "89a54b67-b44f-4e55-b724-0266ebb412a0",
   "metadata": {},
   "source": [
    "# Remove your recently visited place"
   ]
  },
  {
   "cell_type": "code",
   "execution_count": 6,
   "id": "65ec89f8-1c76-45d9-aebd-131eafe5cb83",
   "metadata": {},
   "outputs": [],
   "source": [
    "places.remove(\"Vellore Fort\")"
   ]
  },
  {
   "cell_type": "markdown",
   "id": "3cce65f3-2068-4179-8048-b0be287f1ff9",
   "metadata": {},
   "source": [
    "# Add multiple favourite places at a time"
   ]
  },
  {
   "cell_type": "code",
   "execution_count": null,
   "id": "116e7d29-503b-44ae-a688-d67e5e59fe7e",
   "metadata": {},
   "outputs": [],
   "source": [
    "places.extend([\"Thanjavur\",\"Marina Beach\"])"
   ]
  },
  {
   "cell_type": "markdown",
   "id": "43ac27be-cf2d-4356-bcb2-cfe40698959c",
   "metadata": {},
   "source": [
    "# Reversing List"
   ]
  },
  {
   "cell_type": "code",
   "execution_count": 20,
   "id": "e37d4fd1-6073-464f-918b-cab807927ae1",
   "metadata": {},
   "outputs": [
    {
     "name": "stdout",
     "output_type": "stream",
     "text": [
      "['Kerala', 'Ladakh', 'Paris', 'Bali', 'Golden Temple', 'Marina Beach', 'Thanjavur']\n"
     ]
    }
   ],
   "source": [
    "places.reverse()\n",
    "print(places)"
   ]
  },
  {
   "cell_type": "markdown",
   "id": "f18f1e2b-a198-4e78-8551-1611287074f0",
   "metadata": {},
   "source": [
    "# Remove your last favourite place"
   ]
  },
  {
   "cell_type": "code",
   "execution_count": 21,
   "id": "9a242ce9-6a76-4311-9421-f1d5df3e71f1",
   "metadata": {},
   "outputs": [
    {
     "data": {
      "text/plain": [
       "'Thanjavur'"
      ]
     },
     "execution_count": 21,
     "metadata": {},
     "output_type": "execute_result"
    }
   ],
   "source": [
    "places.pop()\n"
   ]
  },
  {
   "cell_type": "markdown",
   "id": "e1543b11-08d8-4d78-80e4-2dc86157cdfd",
   "metadata": {},
   "source": [
    "# Display list in Sorted order"
   ]
  },
  {
   "cell_type": "code",
   "execution_count": 22,
   "id": "3fc62437-f565-4483-b6aa-fe1f247e0480",
   "metadata": {},
   "outputs": [
    {
     "name": "stdout",
     "output_type": "stream",
     "text": [
      "['Bali', 'Golden Temple', 'Kerala', 'Ladakh', 'Marina Beach', 'Paris']\n"
     ]
    }
   ],
   "source": [
    "places.sort()\n",
    "print(places)"
   ]
  },
  {
   "cell_type": "markdown",
   "id": "689ea8b4-830b-4eb9-a180-1ca8c830c6b8",
   "metadata": {},
   "source": [
    "# Get the index of your favourite place"
   ]
  },
  {
   "cell_type": "code",
   "execution_count": 23,
   "id": "4b8420ae-c052-44a6-a46d-be64a88c2914",
   "metadata": {},
   "outputs": [
    {
     "data": {
      "text/plain": [
       "2"
      ]
     },
     "execution_count": 23,
     "metadata": {},
     "output_type": "execute_result"
    }
   ],
   "source": [
    "places.index(\"Kerala\")"
   ]
  },
  {
   "cell_type": "markdown",
   "id": "349ff55b-d5e9-442e-add8-7f9903acee7f",
   "metadata": {},
   "source": [
    "# Clear your favourite places"
   ]
  },
  {
   "cell_type": "code",
   "execution_count": 25,
   "id": "56b5e278-7262-44c9-a5eb-349cdbd8ab0e",
   "metadata": {},
   "outputs": [
    {
     "name": "stdout",
     "output_type": "stream",
     "text": [
      "[]\n"
     ]
    }
   ],
   "source": [
    "places.clear()\n",
    "print(places)"
   ]
  },
  {
   "cell_type": "markdown",
   "id": "06f924e5-1003-409f-9ab8-2cb0ee50ea83",
   "metadata": {},
   "source": [
    " # Collaborative Filtering"
   ]
  },
  {
   "cell_type": "code",
   "execution_count": 26,
   "id": "917e0001-07fd-465f-8cf5-a03a5268bc6e",
   "metadata": {},
   "outputs": [],
   "source": [
    "data = {\n",
    "    'Arjun Rao': ['Red Fort', 'India Gate', 'Qutub Minar', 'Lotus Temple', 'Akshardham'],\n",
    "    'Priya Sharma': ['India Gate', 'Humayun’s Tomb', 'Akshardham', 'Lodhi Garden'],\n",
    "    'Rahul Mehta': ['Qutub Minar', 'Lodhi Garden', 'National Rail Museum', 'Jama Masjid'],\n",
    "    'Sneha Iyer': ['Red Fort', 'Qutub Minar', 'Chandni Chowk', 'Lotus Temple'],\n",
    "}\n"
   ]
  },
  {
   "cell_type": "markdown",
   "id": "6ea8a580-4a83-4458-85f6-c80b2f74de9b",
   "metadata": {},
   "source": [
    "# Get current user input "
   ]
  },
  {
   "cell_type": "code",
   "execution_count": 27,
   "id": "60af51e1-bacf-46a0-874d-4acbc4bf176f",
   "metadata": {},
   "outputs": [],
   "source": [
    "current_user = 'Arjun Rao'\n",
    "user_places = data[current_user]"
   ]
  },
  {
   "cell_type": "markdown",
   "id": "bedb9e3a-c518-4143-8bcd-a391469ccb9c",
   "metadata": {},
   "source": [
    "# Find similar users – Based on common places"
   ]
  },
  {
   "cell_type": "code",
   "execution_count": 33,
   "id": "cf3be23a-ae6f-42a0-8055-dbba829f8f9d",
   "metadata": {},
   "outputs": [],
   "source": [
    "similar_users = {}\n",
    "for user, places in data.items():\n",
    "    if user != current_user:\n",
    "        common = set(places) & set(user_places)\n",
    "        similarity_score = len(common)\n",
    "        if similarity_score > 0:\n",
    "            similar_users[user] = similarity_score"
   ]
  },
  {
   "cell_type": "markdown",
   "id": "a73bb64b-aa18-4c50-97e1-16486c9be881",
   "metadata": {},
   "source": [
    "# Get recommendations – Unique places others liked"
   ]
  },
  {
   "cell_type": "code",
   "execution_count": 34,
   "id": "12a4c388-766f-40e9-8650-d7796512ef08",
   "metadata": {},
   "outputs": [],
   "source": [
    "from collections import Counter\n",
    "\n",
    "recommendations = []\n",
    "for user in similar_users:\n",
    "    for place in data[user]:\n",
    "        if place not in user_places:\n",
    "            recommendations.append(place)\n",
    "\n",
    "recommend_counts = Counter(recommendations)\n",
    "sorted_recommendations = [place for place, count in recommend_counts.most_common()]"
   ]
  },
  {
   "cell_type": "markdown",
   "id": "0d9289f2-4677-4e2b-86ba-ab5a1523a51c",
   "metadata": {},
   "source": [
    "# Display recommendations"
   ]
  },
  {
   "cell_type": "code",
   "execution_count": 35,
   "id": "286f0e95-c116-4ed0-b9c3-ffe5aefe253a",
   "metadata": {},
   "outputs": [
    {
     "name": "stdout",
     "output_type": "stream",
     "text": [
      "Recommended Places:\n",
      "- Lodhi Garden\n",
      "- Humayun’s Tomb\n",
      "- National Rail Museum\n",
      "- Jama Masjid\n",
      "- Chandni Chowk\n"
     ]
    }
   ],
   "source": [
    "print(\"Recommended Places:\")\n",
    "for place in sorted_recommendations:\n",
    "    print(\"-\", place)"
   ]
  },
  {
   "cell_type": "code",
   "execution_count": null,
   "id": "0ac309e8-364a-4c4a-9ede-61bc0d0e80f2",
   "metadata": {},
   "outputs": [],
   "source": []
  }
 ],
 "metadata": {
  "kernelspec": {
   "display_name": "Python 3 (ipykernel)",
   "language": "python",
   "name": "python3"
  },
  "language_info": {
   "codemirror_mode": {
    "name": "ipython",
    "version": 3
   },
   "file_extension": ".py",
   "mimetype": "text/x-python",
   "name": "python",
   "nbconvert_exporter": "python",
   "pygments_lexer": "ipython3",
   "version": "3.9.11"
  }
 },
 "nbformat": 4,
 "nbformat_minor": 5
}
